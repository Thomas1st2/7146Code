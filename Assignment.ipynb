{
 "cells": [
  {
   "cell_type": "code",
   "execution_count": 1,
   "id": "c0cd07c0",
   "metadata": {},
   "outputs": [],
   "source": [
    "import matplotlib.pyplot as plt\n",
    "%matplotlib inline\n",
    "import pandas as pd\n",
    "import numpy as np\n",
    "import sys\n",
    "import os\n",
    "from pprint import pprint\n",
    "import IPython.display as ipd ## Used to allow us to listen to audio in notebook\n",
    "import warnings\n",
    "warnings.filterwarnings('ignore')"
   ]
  },
  {
   "cell_type": "code",
   "execution_count": 2,
   "id": "1066a67d",
   "metadata": {},
   "outputs": [],
   "source": [
    "df = pd.read_csv('./UrbanSound8K.csv') "
   ]
  },
  {
   "cell_type": "code",
   "execution_count": 3,
   "id": "e45be7cf",
   "metadata": {},
   "outputs": [
    {
     "name": "stdout",
     "output_type": "stream",
     "text": [
      "Requirement already satisfied: librosa in /home/msc1/anaconda3/envs/Env-7146COMP/lib/python3.7/site-packages (0.9.1)\n",
      "Requirement already satisfied: audioread>=2.1.5 in /home/msc1/anaconda3/envs/Env-7146COMP/lib/python3.7/site-packages (from librosa) (2.1.9)\n",
      "Requirement already satisfied: joblib>=0.14 in /home/msc1/anaconda3/envs/Env-7146COMP/lib/python3.7/site-packages (from librosa) (0.17.0)\n",
      "Requirement already satisfied: packaging>=20.0 in /home/msc1/anaconda3/envs/Env-7146COMP/lib/python3.7/site-packages (from librosa) (21.3)\n",
      "Requirement already satisfied: numba>=0.45.1 in /home/msc1/anaconda3/envs/Env-7146COMP/lib/python3.7/site-packages (from librosa) (0.55.1)\n",
      "Requirement already satisfied: resampy>=0.2.2 in /home/msc1/anaconda3/envs/Env-7146COMP/lib/python3.7/site-packages (from librosa) (0.2.2)\n",
      "Requirement already satisfied: scipy>=1.2.0 in /home/msc1/anaconda3/envs/Env-7146COMP/lib/python3.7/site-packages (from librosa) (1.7.3)\n",
      "Requirement already satisfied: decorator>=4.0.10 in /home/msc1/anaconda3/envs/Env-7146COMP/lib/python3.7/site-packages (from librosa) (5.1.0)\n",
      "Requirement already satisfied: scikit-learn>=0.19.1 in /home/msc1/anaconda3/envs/Env-7146COMP/lib/python3.7/site-packages (from librosa) (1.0.1)\n",
      "Requirement already satisfied: soundfile>=0.10.2 in /home/msc1/anaconda3/envs/Env-7146COMP/lib/python3.7/site-packages (from librosa) (0.10.3.post1)\n",
      "Requirement already satisfied: numpy>=1.17.0 in /home/msc1/anaconda3/envs/Env-7146COMP/lib/python3.7/site-packages (from librosa) (1.19.1)\n",
      "Requirement already satisfied: pooch>=1.0 in /home/msc1/anaconda3/envs/Env-7146COMP/lib/python3.7/site-packages (from librosa) (1.6.0)\n",
      "Requirement already satisfied: llvmlite<0.39,>=0.38.0rc1 in /home/msc1/anaconda3/envs/Env-7146COMP/lib/python3.7/site-packages (from numba>=0.45.1->librosa) (0.38.0)\n",
      "Requirement already satisfied: setuptools in /home/msc1/anaconda3/envs/Env-7146COMP/lib/python3.7/site-packages (from numba>=0.45.1->librosa) (58.0.4)\n",
      "Requirement already satisfied: pyparsing!=3.0.5,>=2.0.2 in /home/msc1/anaconda3/envs/Env-7146COMP/lib/python3.7/site-packages (from packaging>=20.0->librosa) (3.0.4)\n",
      "Requirement already satisfied: requests>=2.19.0 in /home/msc1/anaconda3/envs/Env-7146COMP/lib/python3.7/site-packages (from pooch>=1.0->librosa) (2.26.0)\n",
      "Requirement already satisfied: appdirs>=1.3.0 in /home/msc1/anaconda3/envs/Env-7146COMP/lib/python3.7/site-packages (from pooch>=1.0->librosa) (1.4.4)\n",
      "Requirement already satisfied: charset-normalizer~=2.0.0 in /home/msc1/anaconda3/envs/Env-7146COMP/lib/python3.7/site-packages (from requests>=2.19.0->pooch>=1.0->librosa) (2.0.4)\n",
      "Requirement already satisfied: idna<4,>=2.5 in /home/msc1/anaconda3/envs/Env-7146COMP/lib/python3.7/site-packages (from requests>=2.19.0->pooch>=1.0->librosa) (3.3)\n",
      "Requirement already satisfied: certifi>=2017.4.17 in /home/msc1/anaconda3/envs/Env-7146COMP/lib/python3.7/site-packages (from requests>=2.19.0->pooch>=1.0->librosa) (2021.10.8)\n",
      "Requirement already satisfied: urllib3<1.27,>=1.21.1 in /home/msc1/anaconda3/envs/Env-7146COMP/lib/python3.7/site-packages (from requests>=2.19.0->pooch>=1.0->librosa) (1.26.7)\n",
      "Requirement already satisfied: six>=1.3 in /home/msc1/anaconda3/envs/Env-7146COMP/lib/python3.7/site-packages (from resampy>=0.2.2->librosa) (1.16.0)\n",
      "Requirement already satisfied: threadpoolctl>=2.0.0 in /home/msc1/anaconda3/envs/Env-7146COMP/lib/python3.7/site-packages (from scikit-learn>=0.19.1->librosa) (2.2.0)\n",
      "Requirement already satisfied: cffi>=1.0 in /home/msc1/anaconda3/envs/Env-7146COMP/lib/python3.7/site-packages (from soundfile>=0.10.2->librosa) (1.14.6)\n",
      "Requirement already satisfied: pycparser in /home/msc1/anaconda3/envs/Env-7146COMP/lib/python3.7/site-packages (from cffi>=1.0->soundfile>=0.10.2->librosa) (2.21)\n",
      "Note: you may need to restart the kernel to use updated packages.\n"
     ]
    }
   ],
   "source": [
    "pip install librosa"
   ]
  },
  {
   "cell_type": "code",
   "execution_count": 5,
   "id": "c09a7590",
   "metadata": {},
   "outputs": [],
   "source": [
    "import librosa\n",
    "import librosa.display"
   ]
  },
  {
   "cell_type": "code",
   "execution_count": 6,
   "id": "dbe5204e",
   "metadata": {},
   "outputs": [
    {
     "data": {
      "text/plain": [
       "slice_file_name    8732\n",
       "fsID               8732\n",
       "start              8732\n",
       "end                8732\n",
       "salience           8732\n",
       "fold               8732\n",
       "classID            8732\n",
       "class              8732\n",
       "dtype: int64"
      ]
     },
     "execution_count": 6,
     "metadata": {},
     "output_type": "execute_result"
    }
   ],
   "source": [
    "df.count()"
   ]
  },
  {
   "cell_type": "code",
   "execution_count": 7,
   "id": "217fcd8a",
   "metadata": {},
   "outputs": [
    {
     "data": {
      "text/plain": [
       "22050"
      ]
     },
     "execution_count": 7,
     "metadata": {},
     "output_type": "execute_result"
    }
   ],
   "source": [
    "y, sr = librosa.load('./fold1/7061-6-0-0.wav')\n",
    "sr"
   ]
  },
  {
   "cell_type": "code",
   "execution_count": 8,
   "id": "442dcbcd",
   "metadata": {},
   "outputs": [
    {
     "name": "stdout",
     "output_type": "stream",
     "text": [
      "(49613,)\n",
      "(49613, 1)\n",
      "(1, 49613, 1)\n"
     ]
    }
   ],
   "source": [
    "import librosa\n",
    "import numpy as np\n",
    "\n",
    "arr, _ = librosa.load('./fold1/7061-6-0-0.wav', res_type=\"kaiser_fast\")\n",
    "print(arr.shape)\n",
    "\n",
    "arr = arr.reshape(-1, 1)\n",
    "print(arr.shape)\n",
    "\n",
    "X = []\n",
    "X.append(arr)\n",
    "X = np.array(X)\n",
    "print(X.shape)"
   ]
  },
  {
   "cell_type": "code",
   "execution_count": 9,
   "id": "c70c8e88",
   "metadata": {},
   "outputs": [],
   "source": [
    "X = []\n",
    "labels = []\n",
    "\n",
    "def pad(arr, size):\n",
    "    \"\"\"\n",
    "    Pad the arr to the given size.\n",
    "    \"\"\"\n",
    "    return librosa.util.fix_length(arr, size=size)\n",
    "\n",
    "for i in range(8732):\n",
    "    file_name = './fold' + str(df[\"fold\"][i]) + '/' + df[\"slice_file_name\"][i]\n",
    "    y, sr = librosa.load(file_name, res_type='kaiser_fast', sr=22050)\n",
    "    y = pad(y, 22050)\n",
    "    y = y.reshape(-1, 1)\n",
    "    X.append(y)\n",
    "    labels.append(df[\"classID\"][i])"
   ]
  },
  {
   "cell_type": "code",
   "execution_count": 10,
   "id": "7def6df7",
   "metadata": {},
   "outputs": [],
   "source": [
    "X_array = np.array(X)\n",
    "y_array = np.array(labels)"
   ]
  },
  {
   "cell_type": "code",
   "execution_count": 11,
   "id": "93c14e47",
   "metadata": {},
   "outputs": [
    {
     "data": {
      "text/plain": [
       "(8732, 22050, 1)"
      ]
     },
     "execution_count": 11,
     "metadata": {},
     "output_type": "execute_result"
    }
   ],
   "source": [
    "X_array.shape"
   ]
  },
  {
   "cell_type": "code",
   "execution_count": 12,
   "id": "9e02899a",
   "metadata": {},
   "outputs": [
    {
     "data": {
      "text/plain": [
       "(8732,)"
      ]
     },
     "execution_count": 12,
     "metadata": {},
     "output_type": "execute_result"
    }
   ],
   "source": [
    "y_array.shape"
   ]
  },
  {
   "cell_type": "code",
   "execution_count": 18,
   "id": "d05dd5e6",
   "metadata": {},
   "outputs": [],
   "source": [
    "import h5py\n",
    "hf = h5py.File('data1.h5', 'w')\n",
    "hf.create_dataset('dataset_1', data=X_array)\n",
    "hf.create_dataset('dataset_2', data=y_array)\n",
    "hf.close()"
   ]
  },
  {
   "cell_type": "code",
   "execution_count": 11,
   "id": "d759bd03",
   "metadata": {},
   "outputs": [],
   "source": [
    "import h5py\n",
    "hf = hf = h5py.File('data1.h5', 'r')\n",
    "load_x = hf.get('dataset_1')\n",
    "load_y = hf.get('dataset_2')\n",
    "\n",
    "X_array = np.array(load_x)\n",
    "y_array = np.array(load_y)"
   ]
  },
  {
   "cell_type": "code",
   "execution_count": 12,
   "id": "3682573e",
   "metadata": {},
   "outputs": [
    {
     "data": {
      "text/plain": [
       "(8732, 22050, 1)"
      ]
     },
     "execution_count": 12,
     "metadata": {},
     "output_type": "execute_result"
    }
   ],
   "source": [
    "X_array.shape"
   ]
  },
  {
   "cell_type": "code",
   "execution_count": 13,
   "id": "ea4994e9",
   "metadata": {},
   "outputs": [
    {
     "data": {
      "text/plain": [
       "(8732,)"
      ]
     },
     "execution_count": 13,
     "metadata": {},
     "output_type": "execute_result"
    }
   ],
   "source": [
    "y_array.shape"
   ]
  },
  {
   "cell_type": "code",
   "execution_count": 19,
   "id": "b75640df",
   "metadata": {
    "scrolled": true
   },
   "outputs": [
    {
     "name": "stdout",
     "output_type": "stream",
     "text": [
      "[3 2 2 ... 1 1 1]\n",
      "[[0. 0. 0. ... 0. 0. 0.]\n",
      " [0. 0. 1. ... 0. 0. 0.]\n",
      " [0. 0. 1. ... 0. 0. 0.]\n",
      " ...\n",
      " [0. 1. 0. ... 0. 0. 0.]\n",
      " [0. 1. 0. ... 0. 0. 0.]\n",
      " [0. 1. 0. ... 0. 0. 0.]]\n"
     ]
    }
   ],
   "source": [
    "from tensorflow.keras.utils import to_categorical \n",
    "from sklearn.preprocessing import LabelEncoder\n",
    "\n",
    "labelencoder = LabelEncoder()\n",
    "y_encoded = to_categorical(labelencoder.fit_transform(y_array))\n",
    "print(y_array)\n",
    "print(y_encoded)"
   ]
  },
  {
   "cell_type": "code",
   "execution_count": 20,
   "id": "96ce79d1",
   "metadata": {},
   "outputs": [
    {
     "data": {
      "text/plain": [
       "(8732, 10)"
      ]
     },
     "execution_count": 20,
     "metadata": {},
     "output_type": "execute_result"
    }
   ],
   "source": [
    "y_encoded.shape"
   ]
  },
  {
   "cell_type": "code",
   "execution_count": 21,
   "id": "8b118962",
   "metadata": {},
   "outputs": [],
   "source": [
    "from sklearn.model_selection import train_test_split\n",
    "\n",
    "X_train, X_test, y_train, y_test = train_test_split(X_array, y_encoded, test_size=0.2, random_state=42)"
   ]
  },
  {
   "cell_type": "code",
   "execution_count": 22,
   "id": "c6eaacfc",
   "metadata": {},
   "outputs": [
    {
     "data": {
      "text/plain": [
       "(22050, 1)"
      ]
     },
     "execution_count": 22,
     "metadata": {},
     "output_type": "execute_result"
    }
   ],
   "source": [
    "X_array[0].shape"
   ]
  },
  {
   "cell_type": "code",
   "execution_count": 23,
   "id": "ce833650",
   "metadata": {},
   "outputs": [],
   "source": [
    "model_input=(22050, 1)"
   ]
  },
  {
   "cell_type": "code",
   "execution_count": 24,
   "id": "3e6c2337",
   "metadata": {},
   "outputs": [],
   "source": [
    "import tensorflow as tf\n",
    "from tensorflow import keras\n",
    "from tensorflow.keras.models import Sequential\n",
    "from tensorflow.keras.layers import Activation, Dense, LSTM, SimpleRNN, Conv2D, Conv1D, MaxPool1D, MaxPooling2D, Dropout, Flatten"
   ]
  },
  {
   "cell_type": "code",
   "execution_count": 28,
   "id": "b0b42bbd",
   "metadata": {
    "scrolled": true
   },
   "outputs": [],
   "source": [
    "model = Sequential()\n",
    "model.add(Conv1D(filters=32, kernel_size=3, activation='relu', input_shape=(model_input)))\n",
    "model.add(Flatten())\n",
    "model.add(Dense(50, activation='relu'))\n",
    "model.add(Dense(10, activation='softmax'))\n",
    "model.compile(loss='categorical_crossentropy', optimizer='adam', metrics=['accuracy'])"
   ]
  },
  {
   "cell_type": "code",
   "execution_count": 29,
   "id": "69bb5960",
   "metadata": {},
   "outputs": [
    {
     "name": "stdout",
     "output_type": "stream",
     "text": [
      "Model: \"sequential_1\"\n",
      "_________________________________________________________________\n",
      "Layer (type)                 Output Shape              Param #   \n",
      "=================================================================\n",
      "conv1d_2 (Conv1D)            (None, 22048, 32)         128       \n",
      "_________________________________________________________________\n",
      "flatten_1 (Flatten)          (None, 705536)            0         \n",
      "_________________________________________________________________\n",
      "dense_2 (Dense)              (None, 50)                35276850  \n",
      "_________________________________________________________________\n",
      "dense_3 (Dense)              (None, 10)                510       \n",
      "=================================================================\n",
      "Total params: 35,277,488\n",
      "Trainable params: 35,277,488\n",
      "Non-trainable params: 0\n",
      "_________________________________________________________________\n"
     ]
    }
   ],
   "source": [
    "model.summary()"
   ]
  },
  {
   "cell_type": "code",
   "execution_count": 31,
   "id": "0de1a504",
   "metadata": {},
   "outputs": [
    {
     "data": {
      "text/plain": [
       "(6985, 22050, 1)"
      ]
     },
     "execution_count": 31,
     "metadata": {},
     "output_type": "execute_result"
    }
   ],
   "source": [
    "X_train.shape"
   ]
  },
  {
   "cell_type": "code",
   "execution_count": 32,
   "id": "e9e35c71",
   "metadata": {},
   "outputs": [
    {
     "data": {
      "text/plain": [
       "(6985, 10)"
      ]
     },
     "execution_count": 32,
     "metadata": {},
     "output_type": "execute_result"
    }
   ],
   "source": [
    "y_train.shape"
   ]
  },
  {
   "cell_type": "code",
   "execution_count": 30,
   "id": "b83c2f39",
   "metadata": {},
   "outputs": [
    {
     "name": "stdout",
     "output_type": "stream",
     "text": [
      "Epoch 1/100\n",
      "110/110 [==============================] - 2s 15ms/step - loss: 43.2938 - accuracy: 0.1140 - val_loss: 614.2405 - val_accuracy: 0.1231\n",
      "Epoch 2/100\n",
      "110/110 [==============================] - 2s 15ms/step - loss: 5.1737 - accuracy: 0.1187 - val_loss: 2.3743 - val_accuracy: 0.1048\n",
      "Epoch 3/100\n",
      "110/110 [==============================] - 2s 16ms/step - loss: 2.3327 - accuracy: 0.1094 - val_loss: 2.3627 - val_accuracy: 0.1311\n",
      "Epoch 4/100\n",
      "110/110 [==============================] - 2s 15ms/step - loss: 2.2870 - accuracy: 0.1099 - val_loss: 2.3576 - val_accuracy: 0.1048\n",
      "Epoch 5/100\n",
      "110/110 [==============================] - 2s 15ms/step - loss: 2.2814 - accuracy: 0.1104 - val_loss: 2.3413 - val_accuracy: 0.1093\n",
      "Epoch 6/100\n",
      "110/110 [==============================] - 2s 15ms/step - loss: 2.2794 - accuracy: 0.1162 - val_loss: 2.3299 - val_accuracy: 0.1311\n",
      "Epoch 7/100\n",
      "110/110 [==============================] - 2s 15ms/step - loss: 2.2656 - accuracy: 0.1111 - val_loss: 2.3257 - val_accuracy: 0.1139\n",
      "Epoch 8/100\n",
      "110/110 [==============================] - 2s 15ms/step - loss: 2.2657 - accuracy: 0.1125 - val_loss: 2.3175 - val_accuracy: 0.1105\n",
      "Epoch 9/100\n",
      "110/110 [==============================] - 2s 15ms/step - loss: 2.2792 - accuracy: 0.1160 - val_loss: 2.3133 - val_accuracy: 0.1145\n",
      "Epoch 10/100\n",
      "110/110 [==============================] - 2s 15ms/step - loss: 2.2742 - accuracy: 0.1148 - val_loss: 2.3079 - val_accuracy: 0.1214\n",
      "Epoch 11/100\n",
      "110/110 [==============================] - 2s 15ms/step - loss: 2.2803 - accuracy: 0.1160 - val_loss: 2.2963 - val_accuracy: 0.1151\n",
      "Epoch 12/100\n",
      "110/110 [==============================] - 2s 15ms/step - loss: 2.2738 - accuracy: 0.1088 - val_loss: 2.2892 - val_accuracy: 0.1122\n",
      "Epoch 13/100\n",
      "110/110 [==============================] - 2s 15ms/step - loss: 2.2793 - accuracy: 0.1150 - val_loss: 2.2977 - val_accuracy: 0.1162\n",
      "Epoch 14/100\n",
      "110/110 [==============================] - 2s 15ms/step - loss: 2.2784 - accuracy: 0.1162 - val_loss: 2.2845 - val_accuracy: 0.1116\n",
      "Epoch 15/100\n",
      "110/110 [==============================] - 2s 15ms/step - loss: 2.2779 - accuracy: 0.1124 - val_loss: 2.2782 - val_accuracy: 0.1105\n",
      "Epoch 16/100\n",
      "110/110 [==============================] - 2s 15ms/step - loss: 2.2653 - accuracy: 0.1132 - val_loss: 2.2773 - val_accuracy: 0.1191\n",
      "Epoch 17/100\n",
      "110/110 [==============================] - 2s 15ms/step - loss: 2.2608 - accuracy: 0.1091 - val_loss: 2.2728 - val_accuracy: 0.1151\n",
      "Epoch 18/100\n",
      "110/110 [==============================] - 2s 15ms/step - loss: 2.2740 - accuracy: 0.1132 - val_loss: 2.2811 - val_accuracy: 0.1105\n",
      "Epoch 19/100\n",
      "110/110 [==============================] - 2s 15ms/step - loss: 2.2647 - accuracy: 0.1151 - val_loss: 2.2722 - val_accuracy: 0.1151\n",
      "Epoch 20/100\n",
      "110/110 [==============================] - 2s 15ms/step - loss: 2.2769 - accuracy: 0.1108 - val_loss: 2.2668 - val_accuracy: 0.1105\n",
      "Epoch 21/100\n",
      "110/110 [==============================] - 2s 15ms/step - loss: 2.2785 - accuracy: 0.1104 - val_loss: 2.2663 - val_accuracy: 0.1162\n",
      "Epoch 22/100\n",
      "110/110 [==============================] - 2s 15ms/step - loss: 2.2661 - accuracy: 0.1089 - val_loss: 2.2677 - val_accuracy: 0.1162\n",
      "Epoch 23/100\n",
      "110/110 [==============================] - 2s 15ms/step - loss: 2.2712 - accuracy: 0.1152 - val_loss: 2.2653 - val_accuracy: 0.1139\n",
      "Epoch 24/100\n",
      "110/110 [==============================] - 2s 15ms/step - loss: 2.2754 - accuracy: 0.1108 - val_loss: 2.2658 - val_accuracy: 0.1208\n",
      "Epoch 25/100\n",
      "110/110 [==============================] - 2s 15ms/step - loss: 2.2604 - accuracy: 0.1154 - val_loss: 2.2697 - val_accuracy: 0.1191\n",
      "Epoch 26/100\n",
      "110/110 [==============================] - 2s 15ms/step - loss: 2.2614 - accuracy: 0.1138 - val_loss: 2.2685 - val_accuracy: 0.1105\n",
      "Epoch 27/100\n",
      "110/110 [==============================] - 2s 15ms/step - loss: 2.2695 - accuracy: 0.1099 - val_loss: 2.2702 - val_accuracy: 0.1173\n",
      "Epoch 28/100\n",
      "110/110 [==============================] - 2s 15ms/step - loss: 2.2620 - accuracy: 0.1155 - val_loss: 2.2628 - val_accuracy: 0.1105\n",
      "Epoch 29/100\n",
      "110/110 [==============================] - 2s 15ms/step - loss: 2.2776 - accuracy: 0.1115 - val_loss: 2.2635 - val_accuracy: 0.1151\n",
      "Epoch 30/100\n",
      "110/110 [==============================] - 2s 15ms/step - loss: 2.2620 - accuracy: 0.1141 - val_loss: 2.2680 - val_accuracy: 0.1162\n",
      "Epoch 31/100\n",
      "110/110 [==============================] - 2s 15ms/step - loss: 2.2663 - accuracy: 0.1077 - val_loss: 2.2643 - val_accuracy: 0.1116\n",
      "Epoch 32/100\n",
      "110/110 [==============================] - 2s 15ms/step - loss: 2.2619 - accuracy: 0.1104 - val_loss: 2.2683 - val_accuracy: 0.1145\n",
      "Epoch 33/100\n",
      "110/110 [==============================] - 2s 15ms/step - loss: 2.2677 - accuracy: 0.1055 - val_loss: 2.2743 - val_accuracy: 0.1162\n",
      "Epoch 34/100\n",
      "110/110 [==============================] - 2s 15ms/step - loss: 2.2642 - accuracy: 0.1157 - val_loss: 2.2667 - val_accuracy: 0.1191\n",
      "Epoch 35/100\n",
      "110/110 [==============================] - 2s 15ms/step - loss: 2.2618 - accuracy: 0.1122 - val_loss: 2.2698 - val_accuracy: 0.1191\n",
      "Epoch 36/100\n",
      "110/110 [==============================] - 2s 15ms/step - loss: 2.2719 - accuracy: 0.1125 - val_loss: 2.2751 - val_accuracy: 0.1162\n",
      "Epoch 37/100\n",
      "110/110 [==============================] - 2s 15ms/step - loss: 2.2641 - accuracy: 0.1122 - val_loss: 2.2693 - val_accuracy: 0.1162\n",
      "Epoch 38/100\n",
      "110/110 [==============================] - 2s 15ms/step - loss: 2.2699 - accuracy: 0.1125 - val_loss: 2.2656 - val_accuracy: 0.1105\n",
      "Epoch 39/100\n",
      "110/110 [==============================] - 2s 15ms/step - loss: 2.2615 - accuracy: 0.1168 - val_loss: 2.2678 - val_accuracy: 0.1162\n",
      "Epoch 40/100\n",
      "110/110 [==============================] - 2s 15ms/step - loss: 2.2610 - accuracy: 0.1130 - val_loss: 2.2601 - val_accuracy: 0.1139\n",
      "Epoch 41/100\n",
      "110/110 [==============================] - 2s 15ms/step - loss: 2.2757 - accuracy: 0.1173 - val_loss: 2.2614 - val_accuracy: 0.1105\n",
      "Epoch 42/100\n",
      "110/110 [==============================] - 2s 15ms/step - loss: 2.2601 - accuracy: 0.1135 - val_loss: 2.2638 - val_accuracy: 0.1105\n",
      "Epoch 43/100\n",
      "110/110 [==============================] - 2s 15ms/step - loss: 2.2610 - accuracy: 0.1130 - val_loss: 2.2651 - val_accuracy: 0.1185\n",
      "Epoch 44/100\n",
      "110/110 [==============================] - 2s 15ms/step - loss: 2.2616 - accuracy: 0.1114 - val_loss: 2.2816 - val_accuracy: 0.1191\n",
      "Epoch 45/100\n",
      "110/110 [==============================] - 2s 15ms/step - loss: 2.2633 - accuracy: 0.1131 - val_loss: 2.2674 - val_accuracy: 0.1162\n",
      "Epoch 46/100\n",
      "110/110 [==============================] - 2s 15ms/step - loss: 2.2633 - accuracy: 0.1110 - val_loss: 2.2613 - val_accuracy: 0.1145\n",
      "Epoch 47/100\n",
      "110/110 [==============================] - 2s 15ms/step - loss: 2.2620 - accuracy: 0.1095 - val_loss: 2.2674 - val_accuracy: 0.1168\n",
      "Epoch 48/100\n",
      "110/110 [==============================] - 2s 15ms/step - loss: 2.2649 - accuracy: 0.1140 - val_loss: 2.2651 - val_accuracy: 0.1110\n",
      "Epoch 49/100\n",
      "110/110 [==============================] - 2s 15ms/step - loss: 2.2659 - accuracy: 0.1197 - val_loss: 2.2737 - val_accuracy: 0.1053\n",
      "Epoch 50/100\n",
      "110/110 [==============================] - 2s 15ms/step - loss: 2.2627 - accuracy: 0.1102 - val_loss: 2.2657 - val_accuracy: 0.1053\n",
      "Epoch 51/100\n",
      "110/110 [==============================] - 2s 15ms/step - loss: 2.2602 - accuracy: 0.1115 - val_loss: 2.2640 - val_accuracy: 0.1110\n",
      "Epoch 52/100\n",
      "110/110 [==============================] - 2s 15ms/step - loss: 2.2624 - accuracy: 0.1141 - val_loss: 2.2630 - val_accuracy: 0.1110\n",
      "Epoch 53/100\n",
      "110/110 [==============================] - 2s 15ms/step - loss: 2.2612 - accuracy: 0.1137 - val_loss: 2.2675 - val_accuracy: 0.1048\n",
      "Epoch 54/100\n",
      "110/110 [==============================] - 2s 15ms/step - loss: 2.2615 - accuracy: 0.1091 - val_loss: 2.2628 - val_accuracy: 0.1048\n",
      "Epoch 55/100\n",
      "110/110 [==============================] - 2s 15ms/step - loss: 2.2636 - accuracy: 0.1068 - val_loss: 2.2632 - val_accuracy: 0.1162\n",
      "Epoch 56/100\n",
      "110/110 [==============================] - 2s 15ms/step - loss: 2.2620 - accuracy: 0.1115 - val_loss: 2.2641 - val_accuracy: 0.1162\n",
      "Epoch 57/100\n"
     ]
    },
    {
     "name": "stdout",
     "output_type": "stream",
     "text": [
      "110/110 [==============================] - 2s 14ms/step - loss: 2.2604 - accuracy: 0.1092 - val_loss: 2.2664 - val_accuracy: 0.1162\n",
      "Epoch 58/100\n",
      "110/110 [==============================] - 2s 14ms/step - loss: 2.2613 - accuracy: 0.1221 - val_loss: 2.2659 - val_accuracy: 0.1048\n",
      "Epoch 59/100\n",
      "110/110 [==============================] - 2s 15ms/step - loss: 2.2635 - accuracy: 0.1160 - val_loss: 2.2757 - val_accuracy: 0.1162\n",
      "Epoch 60/100\n",
      "110/110 [==============================] - 2s 15ms/step - loss: 2.2611 - accuracy: 0.1091 - val_loss: 2.2687 - val_accuracy: 0.1048\n",
      "Epoch 61/100\n",
      "110/110 [==============================] - 2s 15ms/step - loss: 2.2626 - accuracy: 0.1144 - val_loss: 2.2705 - val_accuracy: 0.1048\n",
      "Epoch 62/100\n",
      "110/110 [==============================] - 2s 15ms/step - loss: 2.2639 - accuracy: 0.1142 - val_loss: 2.2691 - val_accuracy: 0.1168\n",
      "Epoch 63/100\n",
      "110/110 [==============================] - 2s 15ms/step - loss: 2.2605 - accuracy: 0.1142 - val_loss: 2.2659 - val_accuracy: 0.1179\n",
      "Epoch 64/100\n",
      "110/110 [==============================] - 2s 15ms/step - loss: 2.2611 - accuracy: 0.1208 - val_loss: 2.2682 - val_accuracy: 0.1162\n",
      "Epoch 65/100\n",
      "110/110 [==============================] - 2s 15ms/step - loss: 2.2605 - accuracy: 0.1104 - val_loss: 2.2645 - val_accuracy: 0.1048\n",
      "Epoch 66/100\n",
      "110/110 [==============================] - 2s 15ms/step - loss: 2.2657 - accuracy: 0.1127 - val_loss: 2.2647 - val_accuracy: 0.1105\n",
      "Epoch 67/100\n",
      "110/110 [==============================] - 2s 15ms/step - loss: 2.2604 - accuracy: 0.1165 - val_loss: 2.2678 - val_accuracy: 0.1162\n",
      "Epoch 68/100\n",
      "110/110 [==============================] - 2s 15ms/step - loss: 2.2605 - accuracy: 0.1132 - val_loss: 2.2677 - val_accuracy: 0.1168\n",
      "Epoch 69/100\n",
      "110/110 [==============================] - 2s 15ms/step - loss: 2.2605 - accuracy: 0.1088 - val_loss: 2.2736 - val_accuracy: 0.1191\n",
      "Epoch 70/100\n",
      "110/110 [==============================] - 2s 15ms/step - loss: 2.2619 - accuracy: 0.1147 - val_loss: 2.2732 - val_accuracy: 0.1048\n",
      "Epoch 71/100\n",
      "110/110 [==============================] - 2s 15ms/step - loss: 2.2628 - accuracy: 0.1131 - val_loss: 2.2640 - val_accuracy: 0.1105\n",
      "Epoch 72/100\n",
      "110/110 [==============================] - 2s 15ms/step - loss: 2.2628 - accuracy: 0.1069 - val_loss: 2.2671 - val_accuracy: 0.1048\n",
      "Epoch 73/100\n",
      "110/110 [==============================] - 2s 15ms/step - loss: 2.2652 - accuracy: 0.1120 - val_loss: 2.2718 - val_accuracy: 0.1168\n",
      "Epoch 74/100\n",
      "110/110 [==============================] - 2s 15ms/step - loss: 2.2639 - accuracy: 0.1137 - val_loss: 2.2695 - val_accuracy: 0.1105\n",
      "Epoch 75/100\n",
      "110/110 [==============================] - 2s 15ms/step - loss: 2.2596 - accuracy: 0.1171 - val_loss: 2.2676 - val_accuracy: 0.1105\n",
      "Epoch 76/100\n",
      "110/110 [==============================] - 2s 15ms/step - loss: 2.2598 - accuracy: 0.1120 - val_loss: 2.2683 - val_accuracy: 0.1105\n",
      "Epoch 77/100\n",
      "110/110 [==============================] - 2s 15ms/step - loss: 2.2636 - accuracy: 0.1137 - val_loss: 2.2680 - val_accuracy: 0.1162\n",
      "Epoch 78/100\n",
      "110/110 [==============================] - 2s 15ms/step - loss: 2.2595 - accuracy: 0.1141 - val_loss: 2.2644 - val_accuracy: 0.1105\n",
      "Epoch 79/100\n",
      "110/110 [==============================] - 2s 15ms/step - loss: 2.2650 - accuracy: 0.1151 - val_loss: 2.2663 - val_accuracy: 0.1110\n",
      "Epoch 80/100\n",
      "110/110 [==============================] - 2s 14ms/step - loss: 2.2622 - accuracy: 0.1155 - val_loss: 2.2686 - val_accuracy: 0.1162\n",
      "Epoch 81/100\n",
      "110/110 [==============================] - 2s 14ms/step - loss: 2.2610 - accuracy: 0.1141 - val_loss: 2.2714 - val_accuracy: 0.1162\n",
      "Epoch 82/100\n",
      "110/110 [==============================] - 2s 15ms/step - loss: 2.2625 - accuracy: 0.1141 - val_loss: 2.2711 - val_accuracy: 0.1162\n",
      "Epoch 83/100\n",
      "110/110 [==============================] - 2s 14ms/step - loss: 2.2602 - accuracy: 0.1151 - val_loss: 2.2692 - val_accuracy: 0.1048\n",
      "Epoch 84/100\n",
      "110/110 [==============================] - 2s 14ms/step - loss: 2.2598 - accuracy: 0.1168 - val_loss: 2.2829 - val_accuracy: 0.1048\n",
      "Epoch 85/100\n",
      "110/110 [==============================] - 2s 14ms/step - loss: 2.2601 - accuracy: 0.1168 - val_loss: 2.2739 - val_accuracy: 0.1048\n",
      "Epoch 86/100\n",
      "110/110 [==============================] - 2s 14ms/step - loss: 2.2592 - accuracy: 0.1170 - val_loss: 2.2769 - val_accuracy: 0.1048\n",
      "Epoch 87/100\n",
      "110/110 [==============================] - 2s 14ms/step - loss: 2.2639 - accuracy: 0.1170 - val_loss: 2.2759 - val_accuracy: 0.1048\n",
      "Epoch 88/100\n",
      "110/110 [==============================] - 2s 14ms/step - loss: 2.2597 - accuracy: 0.1170 - val_loss: 2.2664 - val_accuracy: 0.1048\n",
      "Epoch 89/100\n",
      "110/110 [==============================] - 2s 14ms/step - loss: 2.2621 - accuracy: 0.1170 - val_loss: 2.2659 - val_accuracy: 0.1048\n",
      "Epoch 90/100\n",
      "110/110 [==============================] - 2s 14ms/step - loss: 2.2603 - accuracy: 0.1170 - val_loss: 2.2683 - val_accuracy: 0.1048\n",
      "Epoch 91/100\n",
      "110/110 [==============================] - 2s 15ms/step - loss: 2.2611 - accuracy: 0.1132 - val_loss: 2.2681 - val_accuracy: 0.1048\n",
      "Epoch 92/100\n",
      "110/110 [==============================] - 2s 14ms/step - loss: 2.2592 - accuracy: 0.1150 - val_loss: 2.2661 - val_accuracy: 0.1048\n",
      "Epoch 93/100\n",
      "110/110 [==============================] - 2s 14ms/step - loss: 2.2593 - accuracy: 0.1168 - val_loss: 2.2667 - val_accuracy: 0.1048\n",
      "Epoch 94/100\n",
      "110/110 [==============================] - 2s 15ms/step - loss: 2.2595 - accuracy: 0.1134 - val_loss: 2.2704 - val_accuracy: 0.1053\n",
      "Epoch 95/100\n",
      "110/110 [==============================] - 2s 14ms/step - loss: 2.2598 - accuracy: 0.1170 - val_loss: 2.2688 - val_accuracy: 0.1048\n",
      "Epoch 96/100\n",
      "110/110 [==============================] - 2s 14ms/step - loss: 2.2596 - accuracy: 0.1170 - val_loss: 2.2676 - val_accuracy: 0.1048\n",
      "Epoch 97/100\n",
      "110/110 [==============================] - 2s 14ms/step - loss: 2.2590 - accuracy: 0.1105 - val_loss: 2.2696 - val_accuracy: 0.1048\n",
      "Epoch 98/100\n",
      "110/110 [==============================] - 2s 14ms/step - loss: 2.2609 - accuracy: 0.1135 - val_loss: 2.2712 - val_accuracy: 0.1048\n",
      "Epoch 99/100\n",
      "110/110 [==============================] - 2s 14ms/step - loss: 2.2596 - accuracy: 0.1170 - val_loss: 2.2675 - val_accuracy: 0.1048\n",
      "Epoch 100/100\n",
      "110/110 [==============================] - 2s 14ms/step - loss: 2.2630 - accuracy: 0.1167 - val_loss: 2.2713 - val_accuracy: 0.1048\n"
     ]
    }
   ],
   "source": [
    "model.fit(X_train, y_train, epochs = 100, batch_size = 64, validation_data = (X_test, y_test))\n",
    "predictions = model.predict(X_test)"
   ]
  },
  {
   "cell_type": "code",
   "execution_count": 33,
   "id": "f303f78a",
   "metadata": {},
   "outputs": [],
   "source": [
    "model2 = Sequential()\n",
    "\n",
    "model2.add(Dense(1024, input_shape=(model_input), activation='relu'))\n",
    "model2.add(Dropout(0.2))\n",
    "\n",
    "model2.add(Dense(512, activation='relu'))\n",
    "model2.add(Dropout(0.2))\n",
    "\n",
    "model2.add(Dense(256, activation='relu'))\n",
    "model2.add(Dropout(0.2))\n",
    "\n",
    "model2.add(Flatten()) \n",
    "model2.add(Dense(10, activation=\"softmax\"))\n",
    "model2.compile(loss='categorical_crossentropy', optimizer='adam', metrics=['accuracy'])"
   ]
  },
  {
   "cell_type": "code",
   "execution_count": 34,
   "id": "8b1f4ded",
   "metadata": {},
   "outputs": [
    {
     "name": "stdout",
     "output_type": "stream",
     "text": [
      "Model: \"sequential_2\"\n",
      "_________________________________________________________________\n",
      "Layer (type)                 Output Shape              Param #   \n",
      "=================================================================\n",
      "dense_4 (Dense)              (None, 22050, 1024)       2048      \n",
      "_________________________________________________________________\n",
      "dropout_1 (Dropout)          (None, 22050, 1024)       0         \n",
      "_________________________________________________________________\n",
      "dense_5 (Dense)              (None, 22050, 512)        524800    \n",
      "_________________________________________________________________\n",
      "dropout_2 (Dropout)          (None, 22050, 512)        0         \n",
      "_________________________________________________________________\n",
      "dense_6 (Dense)              (None, 22050, 256)        131328    \n",
      "_________________________________________________________________\n",
      "dropout_3 (Dropout)          (None, 22050, 256)        0         \n",
      "_________________________________________________________________\n",
      "flatten_2 (Flatten)          (None, 5644800)           0         \n",
      "_________________________________________________________________\n",
      "dense_7 (Dense)              (None, 10)                56448010  \n",
      "=================================================================\n",
      "Total params: 57,106,186\n",
      "Trainable params: 57,106,186\n",
      "Non-trainable params: 0\n",
      "_________________________________________________________________\n"
     ]
    }
   ],
   "source": [
    "model2.summary()"
   ]
  },
  {
   "cell_type": "code",
   "execution_count": 35,
   "id": "ced9384f",
   "metadata": {},
   "outputs": [
    {
     "name": "stdout",
     "output_type": "stream",
     "text": [
      "Epoch 1/100\n"
     ]
    },
    {
     "name": "stderr",
     "output_type": "stream",
     "text": [
      "2022-04-17 19:41:36.433989: W tensorflow/core/common_runtime/bfc_allocator.cc:434] Allocator (GPU_0_bfc) ran out of memory trying to allocate 2.69GiB (rounded to 2890137600)\n",
      "Current allocation summary follows.\n",
      "2022-04-17 19:41:36.434010: I tensorflow/core/common_runtime/bfc_allocator.cc:934] BFCAllocator dump for GPU_0_bfc\n",
      "2022-04-17 19:41:36.434018: I tensorflow/core/common_runtime/bfc_allocator.cc:941] Bin (256): \tTotal Chunks: 66, Chunks in use: 65. 16.5KiB allocated for chunks. 16.2KiB in use in bin. 1.9KiB client-requested in use in bin.\n",
      "2022-04-17 19:41:36.434023: I tensorflow/core/common_runtime/bfc_allocator.cc:941] Bin (512): \tTotal Chunks: 5, Chunks in use: 5. 2.5KiB allocated for chunks. 2.5KiB in use in bin. 2.0KiB client-requested in use in bin.\n",
      "2022-04-17 19:41:36.434027: I tensorflow/core/common_runtime/bfc_allocator.cc:941] Bin (1024): \tTotal Chunks: 4, Chunks in use: 4. 4.2KiB allocated for chunks. 4.2KiB in use in bin. 4.0KiB client-requested in use in bin.\n",
      "2022-04-17 19:41:36.434032: I tensorflow/core/common_runtime/bfc_allocator.cc:941] Bin (2048): \tTotal Chunks: 8, Chunks in use: 8. 16.8KiB allocated for chunks. 16.8KiB in use in bin. 16.3KiB client-requested in use in bin.\n",
      "2022-04-17 19:41:36.434036: I tensorflow/core/common_runtime/bfc_allocator.cc:941] Bin (4096): \tTotal Chunks: 6, Chunks in use: 6. 25.0KiB allocated for chunks. 25.0KiB in use in bin. 24.0KiB client-requested in use in bin.\n",
      "2022-04-17 19:41:36.434040: I tensorflow/core/common_runtime/bfc_allocator.cc:941] Bin (8192): \tTotal Chunks: 1, Chunks in use: 1. 12.0KiB allocated for chunks. 12.0KiB in use in bin. 12.0KiB client-requested in use in bin.\n",
      "2022-04-17 19:41:36.434044: I tensorflow/core/common_runtime/bfc_allocator.cc:941] Bin (16384): \tTotal Chunks: 0, Chunks in use: 0. 0B allocated for chunks. 0B in use in bin. 0B client-requested in use in bin.\n",
      "2022-04-17 19:41:36.434048: I tensorflow/core/common_runtime/bfc_allocator.cc:941] Bin (32768): \tTotal Chunks: 0, Chunks in use: 0. 0B allocated for chunks. 0B in use in bin. 0B client-requested in use in bin.\n",
      "2022-04-17 19:41:36.434051: I tensorflow/core/common_runtime/bfc_allocator.cc:941] Bin (65536): \tTotal Chunks: 0, Chunks in use: 0. 0B allocated for chunks. 0B in use in bin. 0B client-requested in use in bin.\n",
      "2022-04-17 19:41:36.434055: I tensorflow/core/common_runtime/bfc_allocator.cc:941] Bin (131072): \tTotal Chunks: 0, Chunks in use: 0. 0B allocated for chunks. 0B in use in bin. 0B client-requested in use in bin.\n",
      "2022-04-17 19:41:36.434058: I tensorflow/core/common_runtime/bfc_allocator.cc:941] Bin (262144): \tTotal Chunks: 0, Chunks in use: 0. 0B allocated for chunks. 0B in use in bin. 0B client-requested in use in bin.\n",
      "2022-04-17 19:41:36.434063: I tensorflow/core/common_runtime/bfc_allocator.cc:941] Bin (524288): \tTotal Chunks: 3, Chunks in use: 3. 1.99MiB allocated for chunks. 1.99MiB in use in bin. 1.50MiB client-requested in use in bin.\n",
      "2022-04-17 19:41:36.434069: I tensorflow/core/common_runtime/bfc_allocator.cc:941] Bin (1048576): \tTotal Chunks: 0, Chunks in use: 0. 0B allocated for chunks. 0B in use in bin. 0B client-requested in use in bin.\n",
      "2022-04-17 19:41:36.434076: I tensorflow/core/common_runtime/bfc_allocator.cc:941] Bin (2097152): \tTotal Chunks: 3, Chunks in use: 3. 6.50MiB allocated for chunks. 6.50MiB in use in bin. 6.00MiB client-requested in use in bin.\n",
      "2022-04-17 19:41:36.434082: I tensorflow/core/common_runtime/bfc_allocator.cc:941] Bin (4194304): \tTotal Chunks: 1, Chunks in use: 1. 5.38MiB allocated for chunks. 5.38MiB in use in bin. 5.38MiB client-requested in use in bin.\n",
      "2022-04-17 19:41:36.434087: I tensorflow/core/common_runtime/bfc_allocator.cc:941] Bin (8388608): \tTotal Chunks: 0, Chunks in use: 0. 0B allocated for chunks. 0B in use in bin. 0B client-requested in use in bin.\n",
      "2022-04-17 19:41:36.434092: I tensorflow/core/common_runtime/bfc_allocator.cc:941] Bin (16777216): \tTotal Chunks: 0, Chunks in use: 0. 0B allocated for chunks. 0B in use in bin. 0B client-requested in use in bin.\n",
      "2022-04-17 19:41:36.434098: I tensorflow/core/common_runtime/bfc_allocator.cc:941] Bin (33554432): \tTotal Chunks: 1, Chunks in use: 0. 53.34MiB allocated for chunks. 0B in use in bin. 0B client-requested in use in bin.\n",
      "2022-04-17 19:41:36.434106: I tensorflow/core/common_runtime/bfc_allocator.cc:941] Bin (67108864): \tTotal Chunks: 3, Chunks in use: 1. 201.84MiB allocated for chunks. 67.27MiB in use in bin. 67.27MiB client-requested in use in bin.\n",
      "2022-04-17 19:41:36.434114: I tensorflow/core/common_runtime/bfc_allocator.cc:941] Bin (134217728): \tTotal Chunks: 6, Chunks in use: 6. 1.02GiB allocated for chunks. 1.02GiB in use in bin. 1.02GiB client-requested in use in bin.\n",
      "2022-04-17 19:41:36.434120: I tensorflow/core/common_runtime/bfc_allocator.cc:941] Bin (268435456): \tTotal Chunks: 5, Chunks in use: 4. 20.73GiB allocated for chunks. 18.84GiB in use in bin. 18.84GiB client-requested in use in bin.\n",
      "2022-04-17 19:41:36.434126: I tensorflow/core/common_runtime/bfc_allocator.cc:957] Bin for 2.69GiB was 256.00MiB, Chunk State: \n",
      "2022-04-17 19:41:36.434136: I tensorflow/core/common_runtime/bfc_allocator.cc:963]   Size: 1.89GiB | Requested Size: 8B | in_use: 0 | bin_num: 20, prev:   Size: 2.69GiB | Requested Size: 2.69GiB | in_use: 1 | bin_num: -1\n",
      "2022-04-17 19:41:36.434141: I tensorflow/core/common_runtime/bfc_allocator.cc:970] Next region of size 23641767168\n",
      "2022-04-17 19:41:36.434148: I tensorflow/core/common_runtime/bfc_allocator.cc:990] InUse at 7f50da000000 of size 1280 next 1\n",
      "2022-04-17 19:41:36.434154: I tensorflow/core/common_runtime/bfc_allocator.cc:990] InUse at 7f50da000500 of size 256 next 5\n",
      "2022-04-17 19:41:36.434158: I tensorflow/core/common_runtime/bfc_allocator.cc:990] InUse at 7f50da000600 of size 256 next 2\n",
      "2022-04-17 19:41:36.434163: I tensorflow/core/common_runtime/bfc_allocator.cc:990] InUse at 7f50da000700 of size 256 next 3\n",
      "2022-04-17 19:41:36.434168: I tensorflow/core/common_runtime/bfc_allocator.cc:990] InUse at 7f50da000800 of size 256 next 4\n",
      "2022-04-17 19:41:36.434172: I tensorflow/core/common_runtime/bfc_allocator.cc:990] InUse at 7f50da000900 of size 256 next 9\n",
      "2022-04-17 19:41:36.434176: I tensorflow/core/common_runtime/bfc_allocator.cc:990] InUse at 7f50da000a00 of size 256 next 10\n",
      "2022-04-17 19:41:36.434180: I tensorflow/core/common_runtime/bfc_allocator.cc:990] InUse at 7f50da000b00 of size 256 next 6\n",
      "2022-04-17 19:41:36.434185: I tensorflow/core/common_runtime/bfc_allocator.cc:990] InUse at 7f50da000c00 of size 512 next 7\n",
      "2022-04-17 19:41:36.434190: I tensorflow/core/common_runtime/bfc_allocator.cc:990] InUse at 7f50da000e00 of size 256 next 13\n",
      "2022-04-17 19:41:36.434194: I tensorflow/core/common_runtime/bfc_allocator.cc:990] InUse at 7f50da000f00 of size 256 next 14\n",
      "2022-04-17 19:41:36.434198: I tensorflow/core/common_runtime/bfc_allocator.cc:990] InUse at 7f50da001000 of size 256 next 8\n",
      "2022-04-17 19:41:36.434203: I tensorflow/core/common_runtime/bfc_allocator.cc:990] InUse at 7f50da001100 of size 256 next 20\n",
      "2022-04-17 19:41:36.434207: I tensorflow/core/common_runtime/bfc_allocator.cc:990] InUse at 7f50da001200 of size 256 next 23\n",
      "2022-04-17 19:41:36.434211: I tensorflow/core/common_runtime/bfc_allocator.cc:990] InUse at 7f50da001300 of size 256 next 24\n",
      "2022-04-17 19:41:36.434216: I tensorflow/core/common_runtime/bfc_allocator.cc:990] InUse at 7f50da001400 of size 256 next 25\n",
      "2022-04-17 19:41:36.434221: I tensorflow/core/common_runtime/bfc_allocator.cc:990] InUse at 7f50da001500 of size 256 next 26\n",
      "2022-04-17 19:41:36.434226: I tensorflow/core/common_runtime/bfc_allocator.cc:990] InUse at 7f50da001600 of size 256 next 27\n",
      "2022-04-17 19:41:36.434230: I tensorflow/core/common_runtime/bfc_allocator.cc:990] InUse at 7f50da001700 of size 256 next 28\n",
      "2022-04-17 19:41:36.434235: I tensorflow/core/common_runtime/bfc_allocator.cc:990] InUse at 7f50da001800 of size 256 next 17\n",
      "2022-04-17 19:41:36.434239: I tensorflow/core/common_runtime/bfc_allocator.cc:990] InUse at 7f50da001900 of size 256 next 18\n",
      "2022-04-17 19:41:36.434244: I tensorflow/core/common_runtime/bfc_allocator.cc:990] InUse at 7f50da001a00 of size 256 next 19\n",
      "2022-04-17 19:41:36.434248: I tensorflow/core/common_runtime/bfc_allocator.cc:990] InUse at 7f50da001b00 of size 256 next 29\n",
      "2022-04-17 19:41:36.434252: I tensorflow/core/common_runtime/bfc_allocator.cc:990] InUse at 7f50da001c00 of size 256 next 49\n",
      "2022-04-17 19:41:36.434258: I tensorflow/core/common_runtime/bfc_allocator.cc:990] InUse at 7f50da001d00 of size 256 next 98\n",
      "2022-04-17 19:41:36.434264: I tensorflow/core/common_runtime/bfc_allocator.cc:990] InUse at 7f50da001e00 of size 256 next 70\n",
      "2022-04-17 19:41:36.434268: I tensorflow/core/common_runtime/bfc_allocator.cc:990] InUse at 7f50da001f00 of size 256 next 43\n",
      "2022-04-17 19:41:36.434273: I tensorflow/core/common_runtime/bfc_allocator.cc:990] InUse at 7f50da002000 of size 1024 next 21\n",
      "2022-04-17 19:41:36.434279: I tensorflow/core/common_runtime/bfc_allocator.cc:990] InUse at 7f50da002400 of size 2048 next 22\n",
      "2022-04-17 19:41:36.434284: I tensorflow/core/common_runtime/bfc_allocator.cc:990] InUse at 7f50da002c00 of size 2048 next 91\n",
      "2022-04-17 19:41:36.434289: I tensorflow/core/common_runtime/bfc_allocator.cc:990] InUse at 7f50da003400 of size 256 next 79\n",
      "2022-04-17 19:41:36.434294: I tensorflow/core/common_runtime/bfc_allocator.cc:990] InUse at 7f50da003500 of size 256 next 39\n",
      "2022-04-17 19:41:36.434298: I tensorflow/core/common_runtime/bfc_allocator.cc:990] InUse at 7f50da003600 of size 256 next 74\n",
      "2022-04-17 19:41:36.434303: I tensorflow/core/common_runtime/bfc_allocator.cc:990] InUse at 7f50da003700 of size 256 next 45\n",
      "2022-04-17 19:41:36.434308: I tensorflow/core/common_runtime/bfc_allocator.cc:990] InUse at 7f50da003800 of size 256 next 48\n",
      "2022-04-17 19:41:36.434312: I tensorflow/core/common_runtime/bfc_allocator.cc:990] InUse at 7f50da003900 of size 256 next 47\n",
      "2022-04-17 19:41:36.434315: I tensorflow/core/common_runtime/bfc_allocator.cc:990] InUse at 7f50da003a00 of size 4608 next 113\n",
      "2022-04-17 19:41:36.434318: I tensorflow/core/common_runtime/bfc_allocator.cc:990] InUse at 7f50da004c00 of size 4096 next 46\n",
      "2022-04-17 19:41:36.434321: I tensorflow/core/common_runtime/bfc_allocator.cc:990] InUse at 7f50da005c00 of size 4608 next 11\n",
      "2022-04-17 19:41:36.434324: I tensorflow/core/common_runtime/bfc_allocator.cc:990] InUse at 7f50da006e00 of size 12288 next 12\n",
      "2022-04-17 19:41:36.434327: I tensorflow/core/common_runtime/bfc_allocator.cc:990] Free  at 7f50da009e00 of size 70560256 next 51\n",
      "2022-04-17 19:41:36.434330: I tensorflow/core/common_runtime/bfc_allocator.cc:990] InUse at 7f50de354800 of size 256 next 53\n",
      "2022-04-17 19:41:36.434334: I tensorflow/core/common_runtime/bfc_allocator.cc:990] InUse at 7f50de354900 of size 256 next 60\n",
      "2022-04-17 19:41:36.434339: I tensorflow/core/common_runtime/bfc_allocator.cc:990] InUse at 7f50de354a00 of size 256 next 77\n",
      "2022-04-17 19:41:36.434343: I tensorflow/core/common_runtime/bfc_allocator.cc:990] InUse at 7f50de354b00 of size 256 next 110\n",
      "2022-04-17 19:41:36.434348: I tensorflow/core/common_runtime/bfc_allocator.cc:990] InUse at 7f50de354c00 of size 512 next 109\n",
      "2022-04-17 19:41:36.434353: I tensorflow/core/common_runtime/bfc_allocator.cc:990] InUse at 7f50de354e00 of size 256 next 114\n",
      "2022-04-17 19:41:36.434358: I tensorflow/core/common_runtime/bfc_allocator.cc:990] InUse at 7f50de354f00 of size 256 next 69\n",
      "2022-04-17 19:41:36.434362: I tensorflow/core/common_runtime/bfc_allocator.cc:990] InUse at 7f50de355000 of size 256 next 68\n",
      "2022-04-17 19:41:36.434367: I tensorflow/core/common_runtime/bfc_allocator.cc:990] InUse at 7f50de355100 of size 512 next 57\n",
      "2022-04-17 19:41:36.434372: I tensorflow/core/common_runtime/bfc_allocator.cc:990] InUse at 7f50de355300 of size 256 next 64\n",
      "2022-04-17 19:41:36.434377: I tensorflow/core/common_runtime/bfc_allocator.cc:990] InUse at 7f50de355400 of size 256 next 56\n",
      "2022-04-17 19:41:36.434382: I tensorflow/core/common_runtime/bfc_allocator.cc:990] InUse at 7f50de355500 of size 2304 next 61\n",
      "2022-04-17 19:41:36.434388: I tensorflow/core/common_runtime/bfc_allocator.cc:990] InUse at 7f50de355e00 of size 2048 next 67\n",
      "2022-04-17 19:41:36.434393: I tensorflow/core/common_runtime/bfc_allocator.cc:990] InUse at 7f50de356600 of size 256 next 63\n",
      "2022-04-17 19:41:36.434398: I tensorflow/core/common_runtime/bfc_allocator.cc:990] InUse at 7f50de356700 of size 512 next 54\n",
      "2022-04-17 19:41:36.434402: I tensorflow/core/common_runtime/bfc_allocator.cc:990] InUse at 7f50de356900 of size 256 next 59\n",
      "2022-04-17 19:41:36.434405: I tensorflow/core/common_runtime/bfc_allocator.cc:990] InUse at 7f50de356a00 of size 256 next 58\n",
      "2022-04-17 19:41:36.434408: I tensorflow/core/common_runtime/bfc_allocator.cc:990] InUse at 7f50de356b00 of size 2048 next 75\n",
      "2022-04-17 19:41:36.434410: I tensorflow/core/common_runtime/bfc_allocator.cc:990] InUse at 7f50de357300 of size 256 next 72\n",
      "2022-04-17 19:41:36.434415: I tensorflow/core/common_runtime/bfc_allocator.cc:990] InUse at 7f50de357400 of size 256 next 38\n",
      "2022-04-17 19:41:36.434419: I tensorflow/core/common_runtime/bfc_allocator.cc:990] InUse at 7f50de357500 of size 256 next 44\n",
      "2022-04-17 19:41:36.434424: I tensorflow/core/common_runtime/bfc_allocator.cc:990] InUse at 7f50de357600 of size 256 next 76\n",
      "2022-04-17 19:41:36.434428: I tensorflow/core/common_runtime/bfc_allocator.cc:990] InUse at 7f50de357700 of size 256 next 62\n",
      "2022-04-17 19:41:36.434433: I tensorflow/core/common_runtime/bfc_allocator.cc:990] InUse at 7f50de357800 of size 256 next 55\n",
      "2022-04-17 19:41:36.434438: I tensorflow/core/common_runtime/bfc_allocator.cc:990] InUse at 7f50de357900 of size 256 next 66\n",
      "2022-04-17 19:41:36.434443: I tensorflow/core/common_runtime/bfc_allocator.cc:990] InUse at 7f50de357a00 of size 4096 next 100\n",
      "2022-04-17 19:41:36.434448: I tensorflow/core/common_runtime/bfc_allocator.cc:990] InUse at 7f50de358a00 of size 2048 next 85\n",
      "2022-04-17 19:41:36.434453: I tensorflow/core/common_runtime/bfc_allocator.cc:990] InUse at 7f50de359200 of size 1042432 next 37\n",
      "2022-04-17 19:41:36.434459: I tensorflow/core/common_runtime/bfc_allocator.cc:990] InUse at 7f50de457a00 of size 524288 next 42\n",
      "2022-04-17 19:41:36.434464: I tensorflow/core/common_runtime/bfc_allocator.cc:990] InUse at 7f50de4d7a00 of size 2621440 next 88\n",
      "2022-04-17 19:41:36.434469: I tensorflow/core/common_runtime/bfc_allocator.cc:990] InUse at 7f50de757a00 of size 2097152 next 50\n",
      "2022-04-17 19:41:36.434475: I tensorflow/core/common_runtime/bfc_allocator.cc:990] InUse at 7f50de957a00 of size 1024 next 35\n",
      "2022-04-17 19:41:36.434478: I tensorflow/core/common_runtime/bfc_allocator.cc:990] InUse at 7f50de957e00 of size 256 next 34\n",
      "2022-04-17 19:41:36.434481: I tensorflow/core/common_runtime/bfc_allocator.cc:990] InUse at 7f50de957f00 of size 4096 next 33\n",
      "2022-04-17 19:41:36.434484: I tensorflow/core/common_runtime/bfc_allocator.cc:990] InUse at 7f50de958f00 of size 4096 next 32\n",
      "2022-04-17 19:41:36.434488: I tensorflow/core/common_runtime/bfc_allocator.cc:990] InUse at 7f50de959f00 of size 2097152 next 31\n",
      "2022-04-17 19:41:36.434492: I tensorflow/core/common_runtime/bfc_allocator.cc:990] InUse at 7f50deb59f00 of size 2048 next 30\n",
      "2022-04-17 19:41:36.434497: I tensorflow/core/common_runtime/bfc_allocator.cc:990] InUse at 7f50deb5a700 of size 524288 next 65\n",
      "2022-04-17 19:41:36.434502: I tensorflow/core/common_runtime/bfc_allocator.cc:990] InUse at 7f50debda700 of size 1024 next 99\n",
      "2022-04-17 19:41:36.434507: I tensorflow/core/common_runtime/bfc_allocator.cc:990] InUse at 7f50debdab00 of size 256 next 94\n",
      "2022-04-17 19:41:36.434512: I tensorflow/core/common_runtime/bfc_allocator.cc:990] InUse at 7f50debdac00 of size 256 next 96\n",
      "2022-04-17 19:41:36.434516: I tensorflow/core/common_runtime/bfc_allocator.cc:990] InUse at 7f50debdad00 of size 256 next 84\n",
      "2022-04-17 19:41:36.434521: I tensorflow/core/common_runtime/bfc_allocator.cc:990] InUse at 7f50debdae00 of size 256 next 86\n",
      "2022-04-17 19:41:36.434526: I tensorflow/core/common_runtime/bfc_allocator.cc:990] InUse at 7f50debdaf00 of size 256 next 97\n",
      "2022-04-17 19:41:36.434531: I tensorflow/core/common_runtime/bfc_allocator.cc:990] InUse at 7f50debdb000 of size 256 next 82\n",
      "2022-04-17 19:41:36.434536: I tensorflow/core/common_runtime/bfc_allocator.cc:990] InUse at 7f50debdb100 of size 256 next 92\n",
      "2022-04-17 19:41:36.434541: I tensorflow/core/common_runtime/bfc_allocator.cc:990] InUse at 7f50debdb200 of size 256 next 90\n",
      "2022-04-17 19:41:36.434547: I tensorflow/core/common_runtime/bfc_allocator.cc:990] InUse at 7f50debdb300 of size 256 next 80\n",
      "2022-04-17 19:41:36.434551: I tensorflow/core/common_runtime/bfc_allocator.cc:990] InUse at 7f50debdb400 of size 5644800 next 93\n",
      "2022-04-17 19:41:36.434554: I tensorflow/core/common_runtime/bfc_allocator.cc:990] InUse at 7f50df13d600 of size 2560 next 83\n",
      "2022-04-17 19:41:36.434558: I tensorflow/core/common_runtime/bfc_allocator.cc:990] Free  at 7f50df13e000 of size 256 next 89\n",
      "2022-04-17 19:41:36.434562: I tensorflow/core/common_runtime/bfc_allocator.cc:990] InUse at 7f50df13e100 of size 256 next 81\n",
      "2022-04-17 19:41:36.434567: I tensorflow/core/common_runtime/bfc_allocator.cc:990] InUse at 7f50df13e200 of size 256 next 95\n",
      "2022-04-17 19:41:36.434572: I tensorflow/core/common_runtime/bfc_allocator.cc:990] InUse at 7f50df13e300 of size 256 next 87\n",
      "2022-04-17 19:41:36.434577: I tensorflow/core/common_runtime/bfc_allocator.cc:990] InUse at 7f50df13e400 of size 256 next 101\n",
      "2022-04-17 19:41:36.434581: I tensorflow/core/common_runtime/bfc_allocator.cc:990] InUse at 7f50df13e500 of size 256 next 102\n",
      "2022-04-17 19:41:36.434586: I tensorflow/core/common_runtime/bfc_allocator.cc:990] InUse at 7f50df13e600 of size 512 next 103\n",
      "2022-04-17 19:41:36.434591: I tensorflow/core/common_runtime/bfc_allocator.cc:990] Free  at 7f50df13e800 of size 55931392 next 16\n",
      "2022-04-17 19:41:36.434596: I tensorflow/core/common_runtime/bfc_allocator.cc:990] InUse at 7f50e2695a00 of size 70540800 next 15\n",
      "2022-04-17 19:41:36.434602: I tensorflow/core/common_runtime/bfc_allocator.cc:990] Free  at 7f50e69db800 of size 70540800 next 40\n",
      "2022-04-17 19:41:36.434607: I tensorflow/core/common_runtime/bfc_allocator.cc:990] InUse at 7f50ead21600 of size 141107200 next 52\n",
      "2022-04-17 19:41:36.434612: I tensorflow/core/common_runtime/bfc_allocator.cc:990] InUse at 7f50f33b3600 of size 141107200 next 73\n",
      "2022-04-17 19:41:36.434617: I tensorflow/core/common_runtime/bfc_allocator.cc:990] InUse at 7f50fba45600 of size 141107200 next 71\n",
      "2022-04-17 19:41:36.434620: I tensorflow/core/common_runtime/bfc_allocator.cc:990] InUse at 7f51040d7600 of size 225792000 next 36\n",
      "2022-04-17 19:41:36.434623: I tensorflow/core/common_runtime/bfc_allocator.cc:990] InUse at 7f511182c600 of size 225792000 next 78\n",
      "2022-04-17 19:41:36.434627: I tensorflow/core/common_runtime/bfc_allocator.cc:990] InUse at 7f511ef81600 of size 225792000 next 41\n",
      "2022-04-17 19:41:36.434631: I tensorflow/core/common_runtime/bfc_allocator.cc:990] InUse at 7f512c6d6600 of size 5780275200 next 104\n",
      "2022-04-17 19:41:36.434636: I tensorflow/core/common_runtime/bfc_allocator.cc:990] InUse at 7f5284f56600 of size 5780275200 next 105\n",
      "2022-04-17 19:41:36.434641: I tensorflow/core/common_runtime/bfc_allocator.cc:990] InUse at 7f53dd7d6600 of size 5780275200 next 106\n",
      "2022-04-17 19:41:36.434646: I tensorflow/core/common_runtime/bfc_allocator.cc:990] InUse at 7f5536056600 of size 2890137600 next 107\n",
      "2022-04-17 19:41:36.434651: I tensorflow/core/common_runtime/bfc_allocator.cc:990] Free  at 7f55e2496600 of size 2027902720 next 18446744073709551615\n",
      "2022-04-17 19:41:36.434656: I tensorflow/core/common_runtime/bfc_allocator.cc:995]      Summary of in-use Chunks by size: \n",
      "2022-04-17 19:41:36.434664: I tensorflow/core/common_runtime/bfc_allocator.cc:998] 65 Chunks of size 256 totalling 16.2KiB\n",
      "2022-04-17 19:41:36.434671: I tensorflow/core/common_runtime/bfc_allocator.cc:998] 5 Chunks of size 512 totalling 2.5KiB\n",
      "2022-04-17 19:41:36.434677: I tensorflow/core/common_runtime/bfc_allocator.cc:998] 3 Chunks of size 1024 totalling 3.0KiB\n",
      "2022-04-17 19:41:36.434683: I tensorflow/core/common_runtime/bfc_allocator.cc:998] 1 Chunks of size 1280 totalling 1.2KiB\n",
      "2022-04-17 19:41:36.434687: I tensorflow/core/common_runtime/bfc_allocator.cc:998] 6 Chunks of size 2048 totalling 12.0KiB\n",
      "2022-04-17 19:41:36.434690: I tensorflow/core/common_runtime/bfc_allocator.cc:998] 1 Chunks of size 2304 totalling 2.2KiB\n",
      "2022-04-17 19:41:36.434695: I tensorflow/core/common_runtime/bfc_allocator.cc:998] 1 Chunks of size 2560 totalling 2.5KiB\n",
      "2022-04-17 19:41:36.434700: I tensorflow/core/common_runtime/bfc_allocator.cc:998] 4 Chunks of size 4096 totalling 16.0KiB\n",
      "2022-04-17 19:41:36.434706: I tensorflow/core/common_runtime/bfc_allocator.cc:998] 2 Chunks of size 4608 totalling 9.0KiB\n",
      "2022-04-17 19:41:36.434712: I tensorflow/core/common_runtime/bfc_allocator.cc:998] 1 Chunks of size 12288 totalling 12.0KiB\n",
      "2022-04-17 19:41:36.434717: I tensorflow/core/common_runtime/bfc_allocator.cc:998] 2 Chunks of size 524288 totalling 1.00MiB\n",
      "2022-04-17 19:41:36.434724: I tensorflow/core/common_runtime/bfc_allocator.cc:998] 1 Chunks of size 1042432 totalling 1018.0KiB\n",
      "2022-04-17 19:41:36.434730: I tensorflow/core/common_runtime/bfc_allocator.cc:998] 2 Chunks of size 2097152 totalling 4.00MiB\n",
      "2022-04-17 19:41:36.434736: I tensorflow/core/common_runtime/bfc_allocator.cc:998] 1 Chunks of size 2621440 totalling 2.50MiB\n",
      "2022-04-17 19:41:36.434741: I tensorflow/core/common_runtime/bfc_allocator.cc:998] 1 Chunks of size 5644800 totalling 5.38MiB\n",
      "2022-04-17 19:41:36.434747: I tensorflow/core/common_runtime/bfc_allocator.cc:998] 1 Chunks of size 70540800 totalling 67.27MiB\n",
      "2022-04-17 19:41:36.434753: I tensorflow/core/common_runtime/bfc_allocator.cc:998] 3 Chunks of size 141107200 totalling 403.71MiB\n",
      "2022-04-17 19:41:36.434757: I tensorflow/core/common_runtime/bfc_allocator.cc:998] 3 Chunks of size 225792000 totalling 646.00MiB\n",
      "2022-04-17 19:41:36.434762: I tensorflow/core/common_runtime/bfc_allocator.cc:998] 1 Chunks of size 2890137600 totalling 2.69GiB\n",
      "2022-04-17 19:41:36.434767: I tensorflow/core/common_runtime/bfc_allocator.cc:998] 3 Chunks of size 5780275200 totalling 16.15GiB\n",
      "2022-04-17 19:41:36.434773: I tensorflow/core/common_runtime/bfc_allocator.cc:1002] Sum Total of in-use chunks: 19.95GiB\n",
      "2022-04-17 19:41:36.434779: I tensorflow/core/common_runtime/bfc_allocator.cc:1004] total_region_allocated_bytes_: 23641767168 memory_limit_: 23641767296 available bytes: 128 curr_region_allocation_bytes_: 47283534848\n",
      "2022-04-17 19:41:36.434787: I tensorflow/core/common_runtime/bfc_allocator.cc:1010] Stats: \n",
      "Limit:                 23641767296\n",
      "InUse:                 21416831744\n",
      "MaxInUse:              21416831744\n",
      "NumAllocs:                 1409272\n",
      "MaxAllocSize:           5780275200\n",
      "\n",
      "2022-04-17 19:41:36.434799: W tensorflow/core/common_runtime/bfc_allocator.cc:439] ********************************************************************************************________\n",
      "2022-04-17 19:41:36.434826: W tensorflow/core/framework/op_kernel.cc:1753] OP_REQUIRES failed at random_op.cc:77 : Resource exhausted: OOM when allocating tensor with shape[64,22050,512] and type float on /job:localhost/replica:0/task:0/device:GPU:0 by allocator GPU_0_bfc\n"
     ]
    },
    {
     "ename": "ResourceExhaustedError",
     "evalue": " OOM when allocating tensor with shape[64,22050,512] and type float on /job:localhost/replica:0/task:0/device:GPU:0 by allocator GPU_0_bfc\n\t [[node sequential_2/dropout_2/dropout/random_uniform/RandomUniform (defined at tmp/ipykernel_647125/3355199412.py:1) ]]\nHint: If you want to see a list of allocated tensors when OOM happens, add report_tensor_allocations_upon_oom to RunOptions for current allocation info.\n [Op:__inference_train_function_71088]\n\nFunction call stack:\ntrain_function\n",
     "output_type": "error",
     "traceback": [
      "\u001b[0;31m---------------------------------------------------------------------------\u001b[0m",
      "\u001b[0;31mResourceExhaustedError\u001b[0m                    Traceback (most recent call last)",
      "\u001b[0;32m/tmp/ipykernel_647125/3355199412.py\u001b[0m in \u001b[0;36m<module>\u001b[0;34m\u001b[0m\n\u001b[0;32m----> 1\u001b[0;31m \u001b[0mmodel2\u001b[0m\u001b[0;34m.\u001b[0m\u001b[0mfit\u001b[0m\u001b[0;34m(\u001b[0m\u001b[0mX_train\u001b[0m\u001b[0;34m,\u001b[0m \u001b[0my_train\u001b[0m\u001b[0;34m,\u001b[0m \u001b[0mepochs\u001b[0m \u001b[0;34m=\u001b[0m \u001b[0;36m100\u001b[0m\u001b[0;34m,\u001b[0m \u001b[0mbatch_size\u001b[0m \u001b[0;34m=\u001b[0m \u001b[0;36m64\u001b[0m\u001b[0;34m,\u001b[0m \u001b[0mvalidation_data\u001b[0m \u001b[0;34m=\u001b[0m \u001b[0;34m(\u001b[0m\u001b[0mX_test\u001b[0m\u001b[0;34m,\u001b[0m \u001b[0my_test\u001b[0m\u001b[0;34m)\u001b[0m\u001b[0;34m)\u001b[0m\u001b[0;34m\u001b[0m\u001b[0;34m\u001b[0m\u001b[0m\n\u001b[0m\u001b[1;32m      2\u001b[0m \u001b[0mpredictions\u001b[0m \u001b[0;34m=\u001b[0m \u001b[0mmodel\u001b[0m\u001b[0;34m.\u001b[0m\u001b[0mpredict\u001b[0m\u001b[0;34m(\u001b[0m\u001b[0mX_test\u001b[0m\u001b[0;34m)\u001b[0m\u001b[0;34m\u001b[0m\u001b[0;34m\u001b[0m\u001b[0m\n",
      "\u001b[0;32m~/anaconda3/envs/Env-7146COMP/lib/python3.7/site-packages/tensorflow/python/keras/engine/training.py\u001b[0m in \u001b[0;36m_method_wrapper\u001b[0;34m(self, *args, **kwargs)\u001b[0m\n\u001b[1;32m     64\u001b[0m   \u001b[0;32mdef\u001b[0m \u001b[0m_method_wrapper\u001b[0m\u001b[0;34m(\u001b[0m\u001b[0mself\u001b[0m\u001b[0;34m,\u001b[0m \u001b[0;34m*\u001b[0m\u001b[0margs\u001b[0m\u001b[0;34m,\u001b[0m \u001b[0;34m**\u001b[0m\u001b[0mkwargs\u001b[0m\u001b[0;34m)\u001b[0m\u001b[0;34m:\u001b[0m\u001b[0;34m\u001b[0m\u001b[0;34m\u001b[0m\u001b[0m\n\u001b[1;32m     65\u001b[0m     \u001b[0;32mif\u001b[0m \u001b[0;32mnot\u001b[0m \u001b[0mself\u001b[0m\u001b[0;34m.\u001b[0m\u001b[0m_in_multi_worker_mode\u001b[0m\u001b[0;34m(\u001b[0m\u001b[0;34m)\u001b[0m\u001b[0;34m:\u001b[0m  \u001b[0;31m# pylint: disable=protected-access\u001b[0m\u001b[0;34m\u001b[0m\u001b[0;34m\u001b[0m\u001b[0m\n\u001b[0;32m---> 66\u001b[0;31m       \u001b[0;32mreturn\u001b[0m \u001b[0mmethod\u001b[0m\u001b[0;34m(\u001b[0m\u001b[0mself\u001b[0m\u001b[0;34m,\u001b[0m \u001b[0;34m*\u001b[0m\u001b[0margs\u001b[0m\u001b[0;34m,\u001b[0m \u001b[0;34m**\u001b[0m\u001b[0mkwargs\u001b[0m\u001b[0;34m)\u001b[0m\u001b[0;34m\u001b[0m\u001b[0;34m\u001b[0m\u001b[0m\n\u001b[0m\u001b[1;32m     67\u001b[0m \u001b[0;34m\u001b[0m\u001b[0m\n\u001b[1;32m     68\u001b[0m     \u001b[0;31m# Running inside `run_distribute_coordinator` already.\u001b[0m\u001b[0;34m\u001b[0m\u001b[0;34m\u001b[0m\u001b[0;34m\u001b[0m\u001b[0m\n",
      "\u001b[0;32m~/anaconda3/envs/Env-7146COMP/lib/python3.7/site-packages/tensorflow/python/keras/engine/training.py\u001b[0m in \u001b[0;36mfit\u001b[0;34m(self, x, y, batch_size, epochs, verbose, callbacks, validation_split, validation_data, shuffle, class_weight, sample_weight, initial_epoch, steps_per_epoch, validation_steps, validation_batch_size, validation_freq, max_queue_size, workers, use_multiprocessing)\u001b[0m\n\u001b[1;32m    846\u001b[0m                 batch_size=batch_size):\n\u001b[1;32m    847\u001b[0m               \u001b[0mcallbacks\u001b[0m\u001b[0;34m.\u001b[0m\u001b[0mon_train_batch_begin\u001b[0m\u001b[0;34m(\u001b[0m\u001b[0mstep\u001b[0m\u001b[0;34m)\u001b[0m\u001b[0;34m\u001b[0m\u001b[0;34m\u001b[0m\u001b[0m\n\u001b[0;32m--> 848\u001b[0;31m               \u001b[0mtmp_logs\u001b[0m \u001b[0;34m=\u001b[0m \u001b[0mtrain_function\u001b[0m\u001b[0;34m(\u001b[0m\u001b[0miterator\u001b[0m\u001b[0;34m)\u001b[0m\u001b[0;34m\u001b[0m\u001b[0;34m\u001b[0m\u001b[0m\n\u001b[0m\u001b[1;32m    849\u001b[0m               \u001b[0;31m# Catch OutOfRangeError for Datasets of unknown size.\u001b[0m\u001b[0;34m\u001b[0m\u001b[0;34m\u001b[0m\u001b[0;34m\u001b[0m\u001b[0m\n\u001b[1;32m    850\u001b[0m               \u001b[0;31m# This blocks until the batch has finished executing.\u001b[0m\u001b[0;34m\u001b[0m\u001b[0;34m\u001b[0m\u001b[0;34m\u001b[0m\u001b[0m\n",
      "\u001b[0;32m~/anaconda3/envs/Env-7146COMP/lib/python3.7/site-packages/tensorflow/python/eager/def_function.py\u001b[0m in \u001b[0;36m__call__\u001b[0;34m(self, *args, **kwds)\u001b[0m\n\u001b[1;32m    578\u001b[0m         \u001b[0mxla_context\u001b[0m\u001b[0;34m.\u001b[0m\u001b[0mExit\u001b[0m\u001b[0;34m(\u001b[0m\u001b[0;34m)\u001b[0m\u001b[0;34m\u001b[0m\u001b[0;34m\u001b[0m\u001b[0m\n\u001b[1;32m    579\u001b[0m     \u001b[0;32melse\u001b[0m\u001b[0;34m:\u001b[0m\u001b[0;34m\u001b[0m\u001b[0;34m\u001b[0m\u001b[0m\n\u001b[0;32m--> 580\u001b[0;31m       \u001b[0mresult\u001b[0m \u001b[0;34m=\u001b[0m \u001b[0mself\u001b[0m\u001b[0;34m.\u001b[0m\u001b[0m_call\u001b[0m\u001b[0;34m(\u001b[0m\u001b[0;34m*\u001b[0m\u001b[0margs\u001b[0m\u001b[0;34m,\u001b[0m \u001b[0;34m**\u001b[0m\u001b[0mkwds\u001b[0m\u001b[0;34m)\u001b[0m\u001b[0;34m\u001b[0m\u001b[0;34m\u001b[0m\u001b[0m\n\u001b[0m\u001b[1;32m    581\u001b[0m \u001b[0;34m\u001b[0m\u001b[0m\n\u001b[1;32m    582\u001b[0m     \u001b[0;32mif\u001b[0m \u001b[0mtracing_count\u001b[0m \u001b[0;34m==\u001b[0m \u001b[0mself\u001b[0m\u001b[0;34m.\u001b[0m\u001b[0m_get_tracing_count\u001b[0m\u001b[0;34m(\u001b[0m\u001b[0;34m)\u001b[0m\u001b[0;34m:\u001b[0m\u001b[0;34m\u001b[0m\u001b[0;34m\u001b[0m\u001b[0m\n",
      "\u001b[0;32m~/anaconda3/envs/Env-7146COMP/lib/python3.7/site-packages/tensorflow/python/eager/def_function.py\u001b[0m in \u001b[0;36m_call\u001b[0;34m(self, *args, **kwds)\u001b[0m\n\u001b[1;32m    642\u001b[0m         \u001b[0;31m# Lifting succeeded, so variables are initialized and we can run the\u001b[0m\u001b[0;34m\u001b[0m\u001b[0;34m\u001b[0m\u001b[0;34m\u001b[0m\u001b[0m\n\u001b[1;32m    643\u001b[0m         \u001b[0;31m# stateless function.\u001b[0m\u001b[0;34m\u001b[0m\u001b[0;34m\u001b[0m\u001b[0;34m\u001b[0m\u001b[0m\n\u001b[0;32m--> 644\u001b[0;31m         \u001b[0;32mreturn\u001b[0m \u001b[0mself\u001b[0m\u001b[0;34m.\u001b[0m\u001b[0m_stateless_fn\u001b[0m\u001b[0;34m(\u001b[0m\u001b[0;34m*\u001b[0m\u001b[0margs\u001b[0m\u001b[0;34m,\u001b[0m \u001b[0;34m**\u001b[0m\u001b[0mkwds\u001b[0m\u001b[0;34m)\u001b[0m\u001b[0;34m\u001b[0m\u001b[0;34m\u001b[0m\u001b[0m\n\u001b[0m\u001b[1;32m    645\u001b[0m     \u001b[0;32melse\u001b[0m\u001b[0;34m:\u001b[0m\u001b[0;34m\u001b[0m\u001b[0;34m\u001b[0m\u001b[0m\n\u001b[1;32m    646\u001b[0m       \u001b[0mcanon_args\u001b[0m\u001b[0;34m,\u001b[0m \u001b[0mcanon_kwds\u001b[0m \u001b[0;34m=\u001b[0m\u001b[0;31m \u001b[0m\u001b[0;31m\\\u001b[0m\u001b[0;34m\u001b[0m\u001b[0;34m\u001b[0m\u001b[0m\n",
      "\u001b[0;32m~/anaconda3/envs/Env-7146COMP/lib/python3.7/site-packages/tensorflow/python/eager/function.py\u001b[0m in \u001b[0;36m__call__\u001b[0;34m(self, *args, **kwargs)\u001b[0m\n\u001b[1;32m   2418\u001b[0m     \u001b[0;32mwith\u001b[0m \u001b[0mself\u001b[0m\u001b[0;34m.\u001b[0m\u001b[0m_lock\u001b[0m\u001b[0;34m:\u001b[0m\u001b[0;34m\u001b[0m\u001b[0;34m\u001b[0m\u001b[0m\n\u001b[1;32m   2419\u001b[0m       \u001b[0mgraph_function\u001b[0m\u001b[0;34m,\u001b[0m \u001b[0margs\u001b[0m\u001b[0;34m,\u001b[0m \u001b[0mkwargs\u001b[0m \u001b[0;34m=\u001b[0m \u001b[0mself\u001b[0m\u001b[0;34m.\u001b[0m\u001b[0m_maybe_define_function\u001b[0m\u001b[0;34m(\u001b[0m\u001b[0margs\u001b[0m\u001b[0;34m,\u001b[0m \u001b[0mkwargs\u001b[0m\u001b[0;34m)\u001b[0m\u001b[0;34m\u001b[0m\u001b[0;34m\u001b[0m\u001b[0m\n\u001b[0;32m-> 2420\u001b[0;31m     \u001b[0;32mreturn\u001b[0m \u001b[0mgraph_function\u001b[0m\u001b[0;34m.\u001b[0m\u001b[0m_filtered_call\u001b[0m\u001b[0;34m(\u001b[0m\u001b[0margs\u001b[0m\u001b[0;34m,\u001b[0m \u001b[0mkwargs\u001b[0m\u001b[0;34m)\u001b[0m  \u001b[0;31m# pylint: disable=protected-access\u001b[0m\u001b[0;34m\u001b[0m\u001b[0;34m\u001b[0m\u001b[0m\n\u001b[0m\u001b[1;32m   2421\u001b[0m \u001b[0;34m\u001b[0m\u001b[0m\n\u001b[1;32m   2422\u001b[0m   \u001b[0;34m@\u001b[0m\u001b[0mproperty\u001b[0m\u001b[0;34m\u001b[0m\u001b[0;34m\u001b[0m\u001b[0m\n",
      "\u001b[0;32m~/anaconda3/envs/Env-7146COMP/lib/python3.7/site-packages/tensorflow/python/eager/function.py\u001b[0m in \u001b[0;36m_filtered_call\u001b[0;34m(self, args, kwargs)\u001b[0m\n\u001b[1;32m   1663\u001b[0m          if isinstance(t, (ops.Tensor,\n\u001b[1;32m   1664\u001b[0m                            resource_variable_ops.BaseResourceVariable))),\n\u001b[0;32m-> 1665\u001b[0;31m         self.captured_inputs)\n\u001b[0m\u001b[1;32m   1666\u001b[0m \u001b[0;34m\u001b[0m\u001b[0m\n\u001b[1;32m   1667\u001b[0m   \u001b[0;32mdef\u001b[0m \u001b[0m_call_flat\u001b[0m\u001b[0;34m(\u001b[0m\u001b[0mself\u001b[0m\u001b[0;34m,\u001b[0m \u001b[0margs\u001b[0m\u001b[0;34m,\u001b[0m \u001b[0mcaptured_inputs\u001b[0m\u001b[0;34m,\u001b[0m \u001b[0mcancellation_manager\u001b[0m\u001b[0;34m=\u001b[0m\u001b[0;32mNone\u001b[0m\u001b[0;34m)\u001b[0m\u001b[0;34m:\u001b[0m\u001b[0;34m\u001b[0m\u001b[0;34m\u001b[0m\u001b[0m\n",
      "\u001b[0;32m~/anaconda3/envs/Env-7146COMP/lib/python3.7/site-packages/tensorflow/python/eager/function.py\u001b[0m in \u001b[0;36m_call_flat\u001b[0;34m(self, args, captured_inputs, cancellation_manager)\u001b[0m\n\u001b[1;32m   1744\u001b[0m       \u001b[0;31m# No tape is watching; skip to running the function.\u001b[0m\u001b[0;34m\u001b[0m\u001b[0;34m\u001b[0m\u001b[0;34m\u001b[0m\u001b[0m\n\u001b[1;32m   1745\u001b[0m       return self._build_call_outputs(self._inference_function.call(\n\u001b[0;32m-> 1746\u001b[0;31m           ctx, args, cancellation_manager=cancellation_manager))\n\u001b[0m\u001b[1;32m   1747\u001b[0m     forward_backward = self._select_forward_and_backward_functions(\n\u001b[1;32m   1748\u001b[0m         \u001b[0margs\u001b[0m\u001b[0;34m,\u001b[0m\u001b[0;34m\u001b[0m\u001b[0;34m\u001b[0m\u001b[0m\n",
      "\u001b[0;32m~/anaconda3/envs/Env-7146COMP/lib/python3.7/site-packages/tensorflow/python/eager/function.py\u001b[0m in \u001b[0;36mcall\u001b[0;34m(self, ctx, args, cancellation_manager)\u001b[0m\n\u001b[1;32m    596\u001b[0m               \u001b[0minputs\u001b[0m\u001b[0;34m=\u001b[0m\u001b[0margs\u001b[0m\u001b[0;34m,\u001b[0m\u001b[0;34m\u001b[0m\u001b[0;34m\u001b[0m\u001b[0m\n\u001b[1;32m    597\u001b[0m               \u001b[0mattrs\u001b[0m\u001b[0;34m=\u001b[0m\u001b[0mattrs\u001b[0m\u001b[0;34m,\u001b[0m\u001b[0;34m\u001b[0m\u001b[0;34m\u001b[0m\u001b[0m\n\u001b[0;32m--> 598\u001b[0;31m               ctx=ctx)\n\u001b[0m\u001b[1;32m    599\u001b[0m         \u001b[0;32melse\u001b[0m\u001b[0;34m:\u001b[0m\u001b[0;34m\u001b[0m\u001b[0;34m\u001b[0m\u001b[0m\n\u001b[1;32m    600\u001b[0m           outputs = execute.execute_with_cancellation(\n",
      "\u001b[0;32m~/anaconda3/envs/Env-7146COMP/lib/python3.7/site-packages/tensorflow/python/eager/execute.py\u001b[0m in \u001b[0;36mquick_execute\u001b[0;34m(op_name, num_outputs, inputs, attrs, ctx, name)\u001b[0m\n\u001b[1;32m     58\u001b[0m     \u001b[0mctx\u001b[0m\u001b[0;34m.\u001b[0m\u001b[0mensure_initialized\u001b[0m\u001b[0;34m(\u001b[0m\u001b[0;34m)\u001b[0m\u001b[0;34m\u001b[0m\u001b[0;34m\u001b[0m\u001b[0m\n\u001b[1;32m     59\u001b[0m     tensors = pywrap_tfe.TFE_Py_Execute(ctx._handle, device_name, op_name,\n\u001b[0;32m---> 60\u001b[0;31m                                         inputs, attrs, num_outputs)\n\u001b[0m\u001b[1;32m     61\u001b[0m   \u001b[0;32mexcept\u001b[0m \u001b[0mcore\u001b[0m\u001b[0;34m.\u001b[0m\u001b[0m_NotOkStatusException\u001b[0m \u001b[0;32mas\u001b[0m \u001b[0me\u001b[0m\u001b[0;34m:\u001b[0m\u001b[0;34m\u001b[0m\u001b[0;34m\u001b[0m\u001b[0m\n\u001b[1;32m     62\u001b[0m     \u001b[0;32mif\u001b[0m \u001b[0mname\u001b[0m \u001b[0;32mis\u001b[0m \u001b[0;32mnot\u001b[0m \u001b[0;32mNone\u001b[0m\u001b[0;34m:\u001b[0m\u001b[0;34m\u001b[0m\u001b[0;34m\u001b[0m\u001b[0m\n",
      "\u001b[0;31mResourceExhaustedError\u001b[0m:  OOM when allocating tensor with shape[64,22050,512] and type float on /job:localhost/replica:0/task:0/device:GPU:0 by allocator GPU_0_bfc\n\t [[node sequential_2/dropout_2/dropout/random_uniform/RandomUniform (defined at tmp/ipykernel_647125/3355199412.py:1) ]]\nHint: If you want to see a list of allocated tensors when OOM happens, add report_tensor_allocations_upon_oom to RunOptions for current allocation info.\n [Op:__inference_train_function_71088]\n\nFunction call stack:\ntrain_function\n"
     ]
    }
   ],
   "source": [
    "model2.fit(X_train, y_train, epochs = 100, batch_size = 64, validation_data = (X_test, y_test))\n",
    "predictions = model.predict(X_test)"
   ]
  },
  {
   "cell_type": "code",
   "execution_count": null,
   "id": "5f7b059f",
   "metadata": {},
   "outputs": [],
   "source": []
  }
 ],
 "metadata": {
  "kernelspec": {
   "display_name": "Python 3 (ipykernel)",
   "language": "python",
   "name": "python3"
  },
  "language_info": {
   "codemirror_mode": {
    "name": "ipython",
    "version": 3
   },
   "file_extension": ".py",
   "mimetype": "text/x-python",
   "name": "python",
   "nbconvert_exporter": "python",
   "pygments_lexer": "ipython3",
   "version": "3.7.11"
  }
 },
 "nbformat": 4,
 "nbformat_minor": 5
}

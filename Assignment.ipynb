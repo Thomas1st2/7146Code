{
 "cells": [
  {
   "cell_type": "code",
   "execution_count": 1,
   "id": "d0ec3314",
   "metadata": {},
   "outputs": [],
   "source": [
    "import matplotlib.pyplot as plt\n",
    "%matplotlib inline\n",
    "import pandas as pd\n",
    "import numpy as np\n",
    "import sys\n",
    "import os\n",
    "from pprint import pprint\n",
    "import IPython.display as ipd ## Used to allow us to listen to audio in notebook\n",
    "import warnings\n",
    "warnings.filterwarnings('ignore')"
   ]
  },
  {
   "cell_type": "code",
   "execution_count": 2,
   "id": "5e42539b",
   "metadata": {},
   "outputs": [],
   "source": [
    "df = pd.read_csv('./UrbanSound8K.csv') "
   ]
  },
  {
   "cell_type": "code",
   "execution_count": 3,
   "id": "bb0b1c44",
   "metadata": {
    "collapsed": true
   },
   "outputs": [
    {
     "name": "stdout",
     "output_type": "stream",
     "text": [
      "Requirement already satisfied: librosa in /home/msc1/anaconda3/envs/Env-7146COMP/lib/python3.7/site-packages (0.9.1)\n",
      "Requirement already satisfied: scipy>=1.2.0 in /home/msc1/anaconda3/envs/Env-7146COMP/lib/python3.7/site-packages (from librosa) (1.7.3)\n",
      "Requirement already satisfied: decorator>=4.0.10 in /home/msc1/anaconda3/envs/Env-7146COMP/lib/python3.7/site-packages (from librosa) (5.1.0)\n",
      "Requirement already satisfied: resampy>=0.2.2 in /home/msc1/anaconda3/envs/Env-7146COMP/lib/python3.7/site-packages (from librosa) (0.2.2)\n",
      "Requirement already satisfied: numba>=0.45.1 in /home/msc1/anaconda3/envs/Env-7146COMP/lib/python3.7/site-packages (from librosa) (0.55.1)\n",
      "Requirement already satisfied: scikit-learn>=0.19.1 in /home/msc1/anaconda3/envs/Env-7146COMP/lib/python3.7/site-packages (from librosa) (1.0.1)\n",
      "Requirement already satisfied: joblib>=0.14 in /home/msc1/anaconda3/envs/Env-7146COMP/lib/python3.7/site-packages (from librosa) (0.17.0)\n",
      "Requirement already satisfied: pooch>=1.0 in /home/msc1/anaconda3/envs/Env-7146COMP/lib/python3.7/site-packages (from librosa) (1.6.0)\n",
      "Requirement already satisfied: soundfile>=0.10.2 in /home/msc1/anaconda3/envs/Env-7146COMP/lib/python3.7/site-packages (from librosa) (0.10.3.post1)\n",
      "Requirement already satisfied: numpy>=1.17.0 in /home/msc1/anaconda3/envs/Env-7146COMP/lib/python3.7/site-packages (from librosa) (1.19.1)\n",
      "Requirement already satisfied: packaging>=20.0 in /home/msc1/anaconda3/envs/Env-7146COMP/lib/python3.7/site-packages (from librosa) (21.3)\n",
      "Requirement already satisfied: audioread>=2.1.5 in /home/msc1/anaconda3/envs/Env-7146COMP/lib/python3.7/site-packages (from librosa) (2.1.9)\n",
      "Requirement already satisfied: setuptools in /home/msc1/anaconda3/envs/Env-7146COMP/lib/python3.7/site-packages (from numba>=0.45.1->librosa) (58.0.4)\n",
      "Requirement already satisfied: llvmlite<0.39,>=0.38.0rc1 in /home/msc1/anaconda3/envs/Env-7146COMP/lib/python3.7/site-packages (from numba>=0.45.1->librosa) (0.38.0)\n",
      "Requirement already satisfied: pyparsing!=3.0.5,>=2.0.2 in /home/msc1/anaconda3/envs/Env-7146COMP/lib/python3.7/site-packages (from packaging>=20.0->librosa) (3.0.4)\n",
      "Requirement already satisfied: appdirs>=1.3.0 in /home/msc1/anaconda3/envs/Env-7146COMP/lib/python3.7/site-packages (from pooch>=1.0->librosa) (1.4.4)\n",
      "Requirement already satisfied: requests>=2.19.0 in /home/msc1/anaconda3/envs/Env-7146COMP/lib/python3.7/site-packages (from pooch>=1.0->librosa) (2.26.0)\n",
      "Requirement already satisfied: certifi>=2017.4.17 in /home/msc1/anaconda3/envs/Env-7146COMP/lib/python3.7/site-packages (from requests>=2.19.0->pooch>=1.0->librosa) (2021.10.8)\n",
      "Requirement already satisfied: urllib3<1.27,>=1.21.1 in /home/msc1/anaconda3/envs/Env-7146COMP/lib/python3.7/site-packages (from requests>=2.19.0->pooch>=1.0->librosa) (1.26.7)\n",
      "Requirement already satisfied: charset-normalizer~=2.0.0 in /home/msc1/anaconda3/envs/Env-7146COMP/lib/python3.7/site-packages (from requests>=2.19.0->pooch>=1.0->librosa) (2.0.4)\n",
      "Requirement already satisfied: idna<4,>=2.5 in /home/msc1/anaconda3/envs/Env-7146COMP/lib/python3.7/site-packages (from requests>=2.19.0->pooch>=1.0->librosa) (3.3)\n",
      "Requirement already satisfied: six>=1.3 in /home/msc1/anaconda3/envs/Env-7146COMP/lib/python3.7/site-packages (from resampy>=0.2.2->librosa) (1.16.0)\n",
      "Requirement already satisfied: threadpoolctl>=2.0.0 in /home/msc1/anaconda3/envs/Env-7146COMP/lib/python3.7/site-packages (from scikit-learn>=0.19.1->librosa) (2.2.0)\n",
      "Requirement already satisfied: cffi>=1.0 in /home/msc1/anaconda3/envs/Env-7146COMP/lib/python3.7/site-packages (from soundfile>=0.10.2->librosa) (1.14.6)\n",
      "Requirement already satisfied: pycparser in /home/msc1/anaconda3/envs/Env-7146COMP/lib/python3.7/site-packages (from cffi>=1.0->soundfile>=0.10.2->librosa) (2.21)\n",
      "Note: you may need to restart the kernel to use updated packages.\n"
     ]
    }
   ],
   "source": [
    "pip install librosa"
   ]
  },
  {
   "cell_type": "code",
   "execution_count": 4,
   "id": "0d2a9d63",
   "metadata": {},
   "outputs": [],
   "source": [
    "import librosa\n",
    "import librosa.display"
   ]
  },
  {
   "cell_type": "code",
   "execution_count": null,
   "id": "b26060a9",
   "metadata": {},
   "outputs": [],
   "source": [
    "# Run Above Cell"
   ]
  },
  {
   "cell_type": "code",
   "execution_count": 6,
   "id": "b9c3ac79",
   "metadata": {
    "collapsed": true
   },
   "outputs": [
    {
     "data": {
      "text/plain": [
       "slice_file_name    8732\n",
       "fsID               8732\n",
       "start              8732\n",
       "end                8732\n",
       "salience           8732\n",
       "fold               8732\n",
       "classID            8732\n",
       "class              8732\n",
       "dtype: int64"
      ]
     },
     "execution_count": 6,
     "metadata": {},
     "output_type": "execute_result"
    }
   ],
   "source": [
    "df.count()"
   ]
  },
  {
   "cell_type": "code",
   "execution_count": 7,
   "id": "27151c51",
   "metadata": {},
   "outputs": [
    {
     "data": {
      "text/plain": [
       "22050"
      ]
     },
     "execution_count": 7,
     "metadata": {},
     "output_type": "execute_result"
    }
   ],
   "source": [
    "y, sr = librosa.load('./fold1/7061-6-0-0.wav')\n",
    "sr"
   ]
  },
  {
   "cell_type": "code",
   "execution_count": 11,
   "id": "40998048",
   "metadata": {},
   "outputs": [],
   "source": [
    "def pad(arr, size):\n",
    "    \"\"\"\n",
    "    Pad the arr to the given size.\n",
    "    \"\"\"\n",
    "    return librosa.util.fix_length(arr, size=size)"
   ]
  },
  {
   "cell_type": "code",
   "execution_count": 9,
   "id": "d6c91ef1",
   "metadata": {},
   "outputs": [],
   "source": [
    "X = []\n",
    "labels = []\n",
    "\n",
    "for i in range(8732):\n",
    "    file_name = './fold' + str(df[\"fold\"][i]) + '/' + df[\"slice_file_name\"][i]\n",
    "    y, sr = librosa.load(file_name, res_type='kaiser_fast', sr=22050)\n",
    "    y = pad(y, 22050)\n",
    "    y = y.reshape(-1, 1)\n",
    "    X.append(y)\n",
    "    labels.append(df[\"classID\"][i])"
   ]
  },
  {
   "cell_type": "code",
   "execution_count": 10,
   "id": "ddf556e6",
   "metadata": {},
   "outputs": [],
   "source": [
    "X_array = np.array(X)\n",
    "y_array = np.array(labels)"
   ]
  },
  {
   "cell_type": "code",
   "execution_count": 11,
   "id": "fade6a5a",
   "metadata": {},
   "outputs": [
    {
     "data": {
      "text/plain": [
       "(8732, 22050, 1)"
      ]
     },
     "execution_count": 11,
     "metadata": {},
     "output_type": "execute_result"
    }
   ],
   "source": [
    "X_array.shape"
   ]
  },
  {
   "cell_type": "code",
   "execution_count": 12,
   "id": "6ddd2631",
   "metadata": {},
   "outputs": [
    {
     "data": {
      "text/plain": [
       "(8732,)"
      ]
     },
     "execution_count": 12,
     "metadata": {},
     "output_type": "execute_result"
    }
   ],
   "source": [
    "y_array.shape"
   ]
  },
  {
   "cell_type": "code",
   "execution_count": 18,
   "id": "29357f10",
   "metadata": {},
   "outputs": [],
   "source": [
    "import h5py\n",
    "hf = h5py.File('data1.h5', 'w')\n",
    "hf.create_dataset('dataset_1', data=X_array)\n",
    "hf.create_dataset('dataset_2', data=y_array)\n",
    "hf.close()"
   ]
  },
  {
   "cell_type": "code",
   "execution_count": 27,
   "id": "6b713465",
   "metadata": {},
   "outputs": [],
   "source": [
    "import h5py\n",
    "hf = hf = h5py.File('data1.h5', 'r')\n",
    "load_x = hf.get('dataset_1')\n",
    "load_y = hf.get('dataset_2')\n",
    "\n",
    "X_array = np.array(load_x)\n",
    "y_array = np.array(load_y)"
   ]
  },
  {
   "cell_type": "code",
   "execution_count": 28,
   "id": "b97ff930",
   "metadata": {},
   "outputs": [
    {
     "data": {
      "text/plain": [
       "(8732, 22050, 1)"
      ]
     },
     "execution_count": 28,
     "metadata": {},
     "output_type": "execute_result"
    }
   ],
   "source": [
    "X_array.shape"
   ]
  },
  {
   "cell_type": "code",
   "execution_count": 13,
   "id": "7725b7f6",
   "metadata": {},
   "outputs": [
    {
     "data": {
      "text/plain": [
       "(8732,)"
      ]
     },
     "execution_count": 13,
     "metadata": {},
     "output_type": "execute_result"
    }
   ],
   "source": [
    "y_array.shape"
   ]
  },
  {
   "cell_type": "code",
   "execution_count": 31,
   "id": "35b15b6b",
   "metadata": {
    "scrolled": true
   },
   "outputs": [
    {
     "name": "stdout",
     "output_type": "stream",
     "text": [
      "[3 2 2 ... 1 1 1]\n",
      "[[0. 0. 0. ... 0. 0. 0.]\n",
      " [0. 0. 1. ... 0. 0. 0.]\n",
      " [0. 0. 1. ... 0. 0. 0.]\n",
      " ...\n",
      " [0. 1. 0. ... 0. 0. 0.]\n",
      " [0. 1. 0. ... 0. 0. 0.]\n",
      " [0. 1. 0. ... 0. 0. 0.]]\n"
     ]
    }
   ],
   "source": [
    "from tensorflow.keras.utils import to_categorical \n",
    "from sklearn.preprocessing import LabelEncoder\n",
    "\n",
    "labelencoder = LabelEncoder()\n",
    "y_encoded = to_categorical(labelencoder.fit_transform(y_array))\n",
    "print(y_array)\n",
    "print(y_encoded)"
   ]
  },
  {
   "cell_type": "code",
   "execution_count": 7,
   "id": "4e153cc0",
   "metadata": {},
   "outputs": [
    {
     "data": {
      "text/plain": [
       "(8732, 10)"
      ]
     },
     "execution_count": 7,
     "metadata": {},
     "output_type": "execute_result"
    }
   ],
   "source": [
    "y_encoded.shape"
   ]
  },
  {
   "cell_type": "code",
   "execution_count": 32,
   "id": "9a26b2a1",
   "metadata": {},
   "outputs": [],
   "source": [
    "from sklearn.model_selection import train_test_split\n",
    "\n",
    "X_train, X_test, y_train, y_test = train_test_split(X_array, y_encoded, test_size=0.2, random_state=42)"
   ]
  },
  {
   "cell_type": "code",
   "execution_count": 22,
   "id": "bf691874",
   "metadata": {},
   "outputs": [
    {
     "data": {
      "text/plain": [
       "(22050, 1)"
      ]
     },
     "execution_count": 22,
     "metadata": {},
     "output_type": "execute_result"
    }
   ],
   "source": [
    "X_array[0].shape"
   ]
  },
  {
   "cell_type": "code",
   "execution_count": 30,
   "id": "b2455a78",
   "metadata": {},
   "outputs": [],
   "source": [
    "model_input=(22050, 1)"
   ]
  },
  {
   "cell_type": "code",
   "execution_count": 20,
   "id": "d9c3583d",
   "metadata": {},
   "outputs": [],
   "source": [
    "import tensorflow as tf\n",
    "from tensorflow import keras\n",
    "from tensorflow.keras.models import Sequential\n",
    "from tensorflow.keras.layers import Activation, Dense, LSTM, SimpleRNN, Conv2D, Conv1D, MaxPool1D, MaxPooling2D, Dropout, Flatten"
   ]
  },
  {
   "cell_type": "code",
   "execution_count": 18,
   "id": "f91ac096",
   "metadata": {},
   "outputs": [],
   "source": [
    "model = Sequential()\n",
    "model.add(Conv1D(filters=32, kernel_size=3, activation='relu', input_shape=(model_input)))\n",
    "model.add(Flatten())\n",
    "model.add(Dense(50, activation='relu'))\n",
    "model.add(Dense(10, activation='softmax'))\n",
    "model.compile(loss='categorical_crossentropy', optimizer='adam', metrics=['accuracy'])"
   ]
  },
  {
   "cell_type": "code",
   "execution_count": 19,
   "id": "eb850da7",
   "metadata": {},
   "outputs": [
    {
     "name": "stdout",
     "output_type": "stream",
     "text": [
      "Model: \"sequential_1\"\n",
      "_________________________________________________________________\n",
      "Layer (type)                 Output Shape              Param #   \n",
      "=================================================================\n",
      "conv1d (Conv1D)              (None, 22048, 32)         128       \n",
      "_________________________________________________________________\n",
      "flatten_1 (Flatten)          (None, 705536)            0         \n",
      "_________________________________________________________________\n",
      "dense_4 (Dense)              (None, 50)                35276850  \n",
      "_________________________________________________________________\n",
      "dense_5 (Dense)              (None, 10)                510       \n",
      "=================================================================\n",
      "Total params: 35,277,488\n",
      "Trainable params: 35,277,488\n",
      "Non-trainable params: 0\n",
      "_________________________________________________________________\n"
     ]
    }
   ],
   "source": [
    "model.summary()"
   ]
  },
  {
   "cell_type": "code",
   "execution_count": 31,
   "id": "28670836",
   "metadata": {},
   "outputs": [
    {
     "data": {
      "text/plain": [
       "(6985, 22050, 1)"
      ]
     },
     "execution_count": 31,
     "metadata": {},
     "output_type": "execute_result"
    }
   ],
   "source": [
    "X_train.shape"
   ]
  },
  {
   "cell_type": "code",
   "execution_count": 32,
   "id": "3853d97f",
   "metadata": {},
   "outputs": [
    {
     "data": {
      "text/plain": [
       "(6985, 10)"
      ]
     },
     "execution_count": 32,
     "metadata": {},
     "output_type": "execute_result"
    }
   ],
   "source": [
    "y_train.shape"
   ]
  },
  {
   "cell_type": "code",
   "execution_count": 26,
   "id": "b5f497fc",
   "metadata": {
    "scrolled": true
   },
   "outputs": [
    {
     "name": "stdout",
     "output_type": "stream",
     "text": [
      "Epoch 1/100\n"
     ]
    },
    {
     "ename": "TypeError",
     "evalue": "'NoneType' object is not callable",
     "output_type": "error",
     "traceback": [
      "\u001b[0;31m---------------------------------------------------------------------------\u001b[0m",
      "\u001b[0;31mTypeError\u001b[0m                                 Traceback (most recent call last)",
      "\u001b[0;32m/tmp/ipykernel_652521/723240487.py\u001b[0m in \u001b[0;36m<module>\u001b[0;34m\u001b[0m\n\u001b[0;32m----> 1\u001b[0;31m \u001b[0mmodel\u001b[0m\u001b[0;34m.\u001b[0m\u001b[0mfit\u001b[0m\u001b[0;34m(\u001b[0m\u001b[0mX_train\u001b[0m\u001b[0;34m,\u001b[0m \u001b[0my_train\u001b[0m\u001b[0;34m,\u001b[0m \u001b[0mepochs\u001b[0m \u001b[0;34m=\u001b[0m \u001b[0;36m100\u001b[0m\u001b[0;34m,\u001b[0m \u001b[0mbatch_size\u001b[0m \u001b[0;34m=\u001b[0m \u001b[0;36m64\u001b[0m\u001b[0;34m,\u001b[0m \u001b[0mvalidation_data\u001b[0m \u001b[0;34m=\u001b[0m \u001b[0;34m(\u001b[0m\u001b[0mX_test\u001b[0m\u001b[0;34m,\u001b[0m \u001b[0my_test\u001b[0m\u001b[0;34m)\u001b[0m\u001b[0;34m)\u001b[0m\u001b[0;34m\u001b[0m\u001b[0;34m\u001b[0m\u001b[0m\n\u001b[0m\u001b[1;32m      2\u001b[0m \u001b[0mpredictions\u001b[0m \u001b[0;34m=\u001b[0m \u001b[0mmodel\u001b[0m\u001b[0;34m.\u001b[0m\u001b[0mpredict\u001b[0m\u001b[0;34m(\u001b[0m\u001b[0mX_test\u001b[0m\u001b[0;34m)\u001b[0m\u001b[0;34m\u001b[0m\u001b[0;34m\u001b[0m\u001b[0m\n",
      "\u001b[0;32m~/anaconda3/envs/Env-7146COMP/lib/python3.7/site-packages/tensorflow/python/keras/engine/training.py\u001b[0m in \u001b[0;36m_method_wrapper\u001b[0;34m(self, *args, **kwargs)\u001b[0m\n\u001b[1;32m     64\u001b[0m   \u001b[0;32mdef\u001b[0m \u001b[0m_method_wrapper\u001b[0m\u001b[0;34m(\u001b[0m\u001b[0mself\u001b[0m\u001b[0;34m,\u001b[0m \u001b[0;34m*\u001b[0m\u001b[0margs\u001b[0m\u001b[0;34m,\u001b[0m \u001b[0;34m**\u001b[0m\u001b[0mkwargs\u001b[0m\u001b[0;34m)\u001b[0m\u001b[0;34m:\u001b[0m\u001b[0;34m\u001b[0m\u001b[0;34m\u001b[0m\u001b[0m\n\u001b[1;32m     65\u001b[0m     \u001b[0;32mif\u001b[0m \u001b[0;32mnot\u001b[0m \u001b[0mself\u001b[0m\u001b[0;34m.\u001b[0m\u001b[0m_in_multi_worker_mode\u001b[0m\u001b[0;34m(\u001b[0m\u001b[0;34m)\u001b[0m\u001b[0;34m:\u001b[0m  \u001b[0;31m# pylint: disable=protected-access\u001b[0m\u001b[0;34m\u001b[0m\u001b[0;34m\u001b[0m\u001b[0m\n\u001b[0;32m---> 66\u001b[0;31m       \u001b[0;32mreturn\u001b[0m \u001b[0mmethod\u001b[0m\u001b[0;34m(\u001b[0m\u001b[0mself\u001b[0m\u001b[0;34m,\u001b[0m \u001b[0;34m*\u001b[0m\u001b[0margs\u001b[0m\u001b[0;34m,\u001b[0m \u001b[0;34m**\u001b[0m\u001b[0mkwargs\u001b[0m\u001b[0;34m)\u001b[0m\u001b[0;34m\u001b[0m\u001b[0;34m\u001b[0m\u001b[0m\n\u001b[0m\u001b[1;32m     67\u001b[0m \u001b[0;34m\u001b[0m\u001b[0m\n\u001b[1;32m     68\u001b[0m     \u001b[0;31m# Running inside `run_distribute_coordinator` already.\u001b[0m\u001b[0;34m\u001b[0m\u001b[0;34m\u001b[0m\u001b[0;34m\u001b[0m\u001b[0m\n",
      "\u001b[0;32m~/anaconda3/envs/Env-7146COMP/lib/python3.7/site-packages/tensorflow/python/keras/engine/training.py\u001b[0m in \u001b[0;36mfit\u001b[0;34m(self, x, y, batch_size, epochs, verbose, callbacks, validation_split, validation_data, shuffle, class_weight, sample_weight, initial_epoch, steps_per_epoch, validation_steps, validation_batch_size, validation_freq, max_queue_size, workers, use_multiprocessing)\u001b[0m\n\u001b[1;32m    846\u001b[0m                 batch_size=batch_size):\n\u001b[1;32m    847\u001b[0m               \u001b[0mcallbacks\u001b[0m\u001b[0;34m.\u001b[0m\u001b[0mon_train_batch_begin\u001b[0m\u001b[0;34m(\u001b[0m\u001b[0mstep\u001b[0m\u001b[0;34m)\u001b[0m\u001b[0;34m\u001b[0m\u001b[0;34m\u001b[0m\u001b[0m\n\u001b[0;32m--> 848\u001b[0;31m               \u001b[0mtmp_logs\u001b[0m \u001b[0;34m=\u001b[0m \u001b[0mtrain_function\u001b[0m\u001b[0;34m(\u001b[0m\u001b[0miterator\u001b[0m\u001b[0;34m)\u001b[0m\u001b[0;34m\u001b[0m\u001b[0;34m\u001b[0m\u001b[0m\n\u001b[0m\u001b[1;32m    849\u001b[0m               \u001b[0;31m# Catch OutOfRangeError for Datasets of unknown size.\u001b[0m\u001b[0;34m\u001b[0m\u001b[0;34m\u001b[0m\u001b[0;34m\u001b[0m\u001b[0m\n\u001b[1;32m    850\u001b[0m               \u001b[0;31m# This blocks until the batch has finished executing.\u001b[0m\u001b[0;34m\u001b[0m\u001b[0;34m\u001b[0m\u001b[0;34m\u001b[0m\u001b[0m\n",
      "\u001b[0;32m~/anaconda3/envs/Env-7146COMP/lib/python3.7/site-packages/tensorflow/python/eager/def_function.py\u001b[0m in \u001b[0;36m__call__\u001b[0;34m(self, *args, **kwds)\u001b[0m\n\u001b[1;32m    578\u001b[0m         \u001b[0mxla_context\u001b[0m\u001b[0;34m.\u001b[0m\u001b[0mExit\u001b[0m\u001b[0;34m(\u001b[0m\u001b[0;34m)\u001b[0m\u001b[0;34m\u001b[0m\u001b[0;34m\u001b[0m\u001b[0m\n\u001b[1;32m    579\u001b[0m     \u001b[0;32melse\u001b[0m\u001b[0;34m:\u001b[0m\u001b[0;34m\u001b[0m\u001b[0;34m\u001b[0m\u001b[0m\n\u001b[0;32m--> 580\u001b[0;31m       \u001b[0mresult\u001b[0m \u001b[0;34m=\u001b[0m \u001b[0mself\u001b[0m\u001b[0;34m.\u001b[0m\u001b[0m_call\u001b[0m\u001b[0;34m(\u001b[0m\u001b[0;34m*\u001b[0m\u001b[0margs\u001b[0m\u001b[0;34m,\u001b[0m \u001b[0;34m**\u001b[0m\u001b[0mkwds\u001b[0m\u001b[0;34m)\u001b[0m\u001b[0;34m\u001b[0m\u001b[0;34m\u001b[0m\u001b[0m\n\u001b[0m\u001b[1;32m    581\u001b[0m \u001b[0;34m\u001b[0m\u001b[0m\n\u001b[1;32m    582\u001b[0m     \u001b[0;32mif\u001b[0m \u001b[0mtracing_count\u001b[0m \u001b[0;34m==\u001b[0m \u001b[0mself\u001b[0m\u001b[0;34m.\u001b[0m\u001b[0m_get_tracing_count\u001b[0m\u001b[0;34m(\u001b[0m\u001b[0;34m)\u001b[0m\u001b[0;34m:\u001b[0m\u001b[0;34m\u001b[0m\u001b[0;34m\u001b[0m\u001b[0m\n",
      "\u001b[0;32m~/anaconda3/envs/Env-7146COMP/lib/python3.7/site-packages/tensorflow/python/eager/def_function.py\u001b[0m in \u001b[0;36m_call\u001b[0;34m(self, *args, **kwds)\u001b[0m\n\u001b[1;32m    609\u001b[0m       \u001b[0;31m# In this case we have created variables on the first call, so we run the\u001b[0m\u001b[0;34m\u001b[0m\u001b[0;34m\u001b[0m\u001b[0;34m\u001b[0m\u001b[0m\n\u001b[1;32m    610\u001b[0m       \u001b[0;31m# defunned version which is guaranteed to never create variables.\u001b[0m\u001b[0;34m\u001b[0m\u001b[0;34m\u001b[0m\u001b[0;34m\u001b[0m\u001b[0m\n\u001b[0;32m--> 611\u001b[0;31m       \u001b[0;32mreturn\u001b[0m \u001b[0mself\u001b[0m\u001b[0;34m.\u001b[0m\u001b[0m_stateless_fn\u001b[0m\u001b[0;34m(\u001b[0m\u001b[0;34m*\u001b[0m\u001b[0margs\u001b[0m\u001b[0;34m,\u001b[0m \u001b[0;34m**\u001b[0m\u001b[0mkwds\u001b[0m\u001b[0;34m)\u001b[0m  \u001b[0;31m# pylint: disable=not-callable\u001b[0m\u001b[0;34m\u001b[0m\u001b[0;34m\u001b[0m\u001b[0m\n\u001b[0m\u001b[1;32m    612\u001b[0m     \u001b[0;32melif\u001b[0m \u001b[0mself\u001b[0m\u001b[0;34m.\u001b[0m\u001b[0m_stateful_fn\u001b[0m \u001b[0;32mis\u001b[0m \u001b[0;32mnot\u001b[0m \u001b[0;32mNone\u001b[0m\u001b[0;34m:\u001b[0m\u001b[0;34m\u001b[0m\u001b[0;34m\u001b[0m\u001b[0m\n\u001b[1;32m    613\u001b[0m       \u001b[0;31m# Release the lock early so that multiple threads can perform the call\u001b[0m\u001b[0;34m\u001b[0m\u001b[0;34m\u001b[0m\u001b[0;34m\u001b[0m\u001b[0m\n",
      "\u001b[0;31mTypeError\u001b[0m: 'NoneType' object is not callable"
     ]
    }
   ],
   "source": [
    "model.fit(X_train, y_train, epochs = 100, batch_size = 64, validation_data = (X_test, y_test))\n",
    "predictions = model.predict(X_test)"
   ]
  },
  {
   "cell_type": "markdown",
   "id": "e417636e",
   "metadata": {},
   "source": [
    "# Second Model\n",
    "Using raw input data"
   ]
  },
  {
   "cell_type": "code",
   "execution_count": 10,
   "id": "0016f8b1",
   "metadata": {
    "collapsed": true
   },
   "outputs": [
    {
     "name": "stderr",
     "output_type": "stream",
     "text": [
      "2022-04-17 21:09:27.015415: I tensorflow/stream_executor/platform/default/dso_loader.cc:44] Successfully opened dynamic library libcuda.so.1\n",
      "2022-04-17 21:09:27.060002: I tensorflow/stream_executor/cuda/cuda_gpu_executor.cc:981] successful NUMA node read from SysFS had negative value (-1), but there must be at least one NUMA node, so returning NUMA node zero\n",
      "2022-04-17 21:09:27.060583: I tensorflow/core/common_runtime/gpu/gpu_device.cc:1561] Found device 0 with properties: \n",
      "pciBusID: 0000:01:00.0 name: NVIDIA GeForce RTX 3090 computeCapability: 8.6\n",
      "coreClock: 1.755GHz coreCount: 82 deviceMemorySize: 23.70GiB deviceMemoryBandwidth: 871.81GiB/s\n",
      "2022-04-17 21:09:27.060985: I tensorflow/stream_executor/platform/default/dso_loader.cc:44] Successfully opened dynamic library libcudart.so.10.1\n",
      "2022-04-17 21:09:27.063089: I tensorflow/stream_executor/platform/default/dso_loader.cc:44] Successfully opened dynamic library libcublas.so.10\n",
      "2022-04-17 21:09:27.064657: I tensorflow/stream_executor/platform/default/dso_loader.cc:44] Successfully opened dynamic library libcufft.so.10\n",
      "2022-04-17 21:09:27.065557: I tensorflow/stream_executor/platform/default/dso_loader.cc:44] Successfully opened dynamic library libcurand.so.10\n",
      "2022-04-17 21:09:27.067642: I tensorflow/stream_executor/platform/default/dso_loader.cc:44] Successfully opened dynamic library libcusolver.so.10\n",
      "2022-04-17 21:09:27.068578: I tensorflow/stream_executor/platform/default/dso_loader.cc:44] Successfully opened dynamic library libcusparse.so.10\n",
      "2022-04-17 21:09:27.071887: I tensorflow/stream_executor/platform/default/dso_loader.cc:44] Successfully opened dynamic library libcudnn.so.7\n",
      "2022-04-17 21:09:27.071964: I tensorflow/stream_executor/cuda/cuda_gpu_executor.cc:981] successful NUMA node read from SysFS had negative value (-1), but there must be at least one NUMA node, so returning NUMA node zero\n",
      "2022-04-17 21:09:27.072581: I tensorflow/stream_executor/cuda/cuda_gpu_executor.cc:981] successful NUMA node read from SysFS had negative value (-1), but there must be at least one NUMA node, so returning NUMA node zero\n",
      "2022-04-17 21:09:27.073134: I tensorflow/core/common_runtime/gpu/gpu_device.cc:1703] Adding visible gpu devices: 0\n",
      "2022-04-17 21:09:27.073482: I tensorflow/core/platform/cpu_feature_guard.cc:143] Your CPU supports instructions that this TensorFlow binary was not compiled to use: SSE4.1 SSE4.2 AVX AVX2 FMA\n",
      "2022-04-17 21:09:27.095576: I tensorflow/core/platform/profile_utils/cpu_utils.cc:102] CPU Frequency: 3699850000 Hz\n",
      "2022-04-17 21:09:27.096130: I tensorflow/compiler/xla/service/service.cc:168] XLA service 0x558b6d21e850 initialized for platform Host (this does not guarantee that XLA will be used). Devices:\n",
      "2022-04-17 21:09:27.096140: I tensorflow/compiler/xla/service/service.cc:176]   StreamExecutor device (0): Host, Default Version\n",
      "2022-04-17 21:09:27.155170: I tensorflow/stream_executor/cuda/cuda_gpu_executor.cc:981] successful NUMA node read from SysFS had negative value (-1), but there must be at least one NUMA node, so returning NUMA node zero\n",
      "2022-04-17 21:09:27.155788: I tensorflow/compiler/xla/service/service.cc:168] XLA service 0x558b6ac19e40 initialized for platform CUDA (this does not guarantee that XLA will be used). Devices:\n",
      "2022-04-17 21:09:27.155801: I tensorflow/compiler/xla/service/service.cc:176]   StreamExecutor device (0): NVIDIA GeForce RTX 3090, Compute Capability 8.6\n",
      "2022-04-17 21:09:27.155953: I tensorflow/stream_executor/cuda/cuda_gpu_executor.cc:981] successful NUMA node read from SysFS had negative value (-1), but there must be at least one NUMA node, so returning NUMA node zero\n",
      "2022-04-17 21:09:27.156508: I tensorflow/core/common_runtime/gpu/gpu_device.cc:1561] Found device 0 with properties: \n",
      "pciBusID: 0000:01:00.0 name: NVIDIA GeForce RTX 3090 computeCapability: 8.6\n",
      "coreClock: 1.755GHz coreCount: 82 deviceMemorySize: 23.70GiB deviceMemoryBandwidth: 871.81GiB/s\n",
      "2022-04-17 21:09:27.156546: I tensorflow/stream_executor/platform/default/dso_loader.cc:44] Successfully opened dynamic library libcudart.so.10.1\n",
      "2022-04-17 21:09:27.156564: I tensorflow/stream_executor/platform/default/dso_loader.cc:44] Successfully opened dynamic library libcublas.so.10\n",
      "2022-04-17 21:09:27.156581: I tensorflow/stream_executor/platform/default/dso_loader.cc:44] Successfully opened dynamic library libcufft.so.10\n",
      "2022-04-17 21:09:27.156599: I tensorflow/stream_executor/platform/default/dso_loader.cc:44] Successfully opened dynamic library libcurand.so.10\n",
      "2022-04-17 21:09:27.156616: I tensorflow/stream_executor/platform/default/dso_loader.cc:44] Successfully opened dynamic library libcusolver.so.10\n",
      "2022-04-17 21:09:27.156632: I tensorflow/stream_executor/platform/default/dso_loader.cc:44] Successfully opened dynamic library libcusparse.so.10\n",
      "2022-04-17 21:09:27.156650: I tensorflow/stream_executor/platform/default/dso_loader.cc:44] Successfully opened dynamic library libcudnn.so.7\n",
      "2022-04-17 21:09:27.156701: I tensorflow/stream_executor/cuda/cuda_gpu_executor.cc:981] successful NUMA node read from SysFS had negative value (-1), but there must be at least one NUMA node, so returning NUMA node zero\n",
      "2022-04-17 21:09:27.157277: I tensorflow/stream_executor/cuda/cuda_gpu_executor.cc:981] successful NUMA node read from SysFS had negative value (-1), but there must be at least one NUMA node, so returning NUMA node zero\n",
      "2022-04-17 21:09:27.157806: I tensorflow/core/common_runtime/gpu/gpu_device.cc:1703] Adding visible gpu devices: 0\n",
      "2022-04-17 21:09:27.157837: I tensorflow/stream_executor/platform/default/dso_loader.cc:44] Successfully opened dynamic library libcudart.so.10.1\n",
      "2022-04-17 21:09:27.158489: I tensorflow/core/common_runtime/gpu/gpu_device.cc:1102] Device interconnect StreamExecutor with strength 1 edge matrix:\n",
      "2022-04-17 21:09:27.158497: I tensorflow/core/common_runtime/gpu/gpu_device.cc:1108]      0 \n",
      "2022-04-17 21:09:27.158501: I tensorflow/core/common_runtime/gpu/gpu_device.cc:1121] 0:   N \n",
      "2022-04-17 21:09:27.158576: I tensorflow/stream_executor/cuda/cuda_gpu_executor.cc:981] successful NUMA node read from SysFS had negative value (-1), but there must be at least one NUMA node, so returning NUMA node zero\n",
      "2022-04-17 21:09:27.159158: I tensorflow/stream_executor/cuda/cuda_gpu_executor.cc:981] successful NUMA node read from SysFS had negative value (-1), but there must be at least one NUMA node, so returning NUMA node zero\n",
      "2022-04-17 21:09:27.159717: I tensorflow/core/common_runtime/gpu/gpu_device.cc:1247] Created TensorFlow device (/job:localhost/replica:0/task:0/device:GPU:0 with 22546 MB memory) -> physical GPU (device: 0, name: NVIDIA GeForce RTX 3090, pci bus id: 0000:01:00.0, compute capability: 8.6)\n"
     ]
    }
   ],
   "source": [
    "model2 = Sequential()\n",
    "\n",
    "model2.add(Dense(512, input_shape=(model_input), activation='relu'))\n",
    "model2.add(Dropout(0.2))\n",
    "\n",
    "model2.add(Dense(256, activation='relu'))\n",
    "model2.add(Dropout(0.2))\n",
    "\n",
    "model2.add(Dense(128, activation='relu'))\n",
    "model2.add(Dropout(0.2))\n",
    "\n",
    "model2.add(Flatten()) \n",
    "model2.add(Dense(10, activation=\"softmax\"))\n",
    "model2.compile(loss='categorical_crossentropy', optimizer='adam', metrics=['accuracy'])"
   ]
  },
  {
   "cell_type": "code",
   "execution_count": 11,
   "id": "72bb2814",
   "metadata": {},
   "outputs": [
    {
     "name": "stdout",
     "output_type": "stream",
     "text": [
      "Model: \"sequential\"\n",
      "_________________________________________________________________\n",
      "Layer (type)                 Output Shape              Param #   \n",
      "=================================================================\n",
      "dense (Dense)                (None, 22050, 512)        1024      \n",
      "_________________________________________________________________\n",
      "dropout (Dropout)            (None, 22050, 512)        0         \n",
      "_________________________________________________________________\n",
      "dense_1 (Dense)              (None, 22050, 256)        131328    \n",
      "_________________________________________________________________\n",
      "dropout_1 (Dropout)          (None, 22050, 256)        0         \n",
      "_________________________________________________________________\n",
      "dense_2 (Dense)              (None, 22050, 128)        32896     \n",
      "_________________________________________________________________\n",
      "dropout_2 (Dropout)          (None, 22050, 128)        0         \n",
      "_________________________________________________________________\n",
      "flatten (Flatten)            (None, 2822400)           0         \n",
      "_________________________________________________________________\n",
      "dense_3 (Dense)              (None, 10)                28224010  \n",
      "=================================================================\n",
      "Total params: 28,389,258\n",
      "Trainable params: 28,389,258\n",
      "Non-trainable params: 0\n",
      "_________________________________________________________________\n"
     ]
    }
   ],
   "source": [
    "model2.summary()"
   ]
  },
  {
   "cell_type": "code",
   "execution_count": 12,
   "id": "7c38477c",
   "metadata": {},
   "outputs": [
    {
     "name": "stdout",
     "output_type": "stream",
     "text": [
      "Epoch 1/50\n"
     ]
    },
    {
     "name": "stderr",
     "output_type": "stream",
     "text": [
      "2022-04-17 21:15:18.966056: I tensorflow/stream_executor/platform/default/dso_loader.cc:44] Successfully opened dynamic library libcublas.so.10\n"
     ]
    },
    {
     "name": "stdout",
     "output_type": "stream",
     "text": [
      "110/110 [==============================] - 62s 561ms/step - loss: 2.1982 - accuracy: 0.1928 - val_loss: 2.0859 - val_accuracy: 0.2376\n",
      "Epoch 2/50\n",
      "110/110 [==============================] - 62s 564ms/step - loss: 1.8362 - accuracy: 0.3523 - val_loss: 2.3116 - val_accuracy: 0.2003\n",
      "Epoch 3/50\n",
      "110/110 [==============================] - 62s 566ms/step - loss: 1.3352 - accuracy: 0.5519 - val_loss: 3.0392 - val_accuracy: 0.2192\n",
      "Epoch 4/50\n",
      "110/110 [==============================] - 62s 564ms/step - loss: 0.9501 - accuracy: 0.6986 - val_loss: 3.9034 - val_accuracy: 0.1929\n",
      "Epoch 5/50\n",
      "110/110 [==============================] - 62s 564ms/step - loss: 0.7048 - accuracy: 0.7755 - val_loss: 5.1702 - val_accuracy: 0.2181\n",
      "Epoch 6/50\n",
      "110/110 [==============================] - 62s 564ms/step - loss: 0.6165 - accuracy: 0.8139 - val_loss: 4.9471 - val_accuracy: 0.2129\n",
      "Epoch 7/50\n",
      "110/110 [==============================] - 62s 565ms/step - loss: 0.4666 - accuracy: 0.8586 - val_loss: 7.4909 - val_accuracy: 0.1837\n",
      "Epoch 8/50\n",
      "110/110 [==============================] - 62s 565ms/step - loss: 0.4038 - accuracy: 0.8746 - val_loss: 9.7219 - val_accuracy: 0.1786\n",
      "Epoch 9/50\n",
      "110/110 [==============================] - 62s 564ms/step - loss: 0.4489 - accuracy: 0.8681 - val_loss: 8.1530 - val_accuracy: 0.1935\n",
      "Epoch 10/50\n",
      "110/110 [==============================] - 62s 565ms/step - loss: 0.3166 - accuracy: 0.9052 - val_loss: 9.8951 - val_accuracy: 0.1918\n",
      "Epoch 11/50\n",
      "110/110 [==============================] - 62s 564ms/step - loss: 0.2506 - accuracy: 0.9233 - val_loss: 9.9802 - val_accuracy: 0.2084\n",
      "Epoch 12/50\n",
      "110/110 [==============================] - 62s 564ms/step - loss: 0.2375 - accuracy: 0.9337 - val_loss: 9.9764 - val_accuracy: 0.1940\n",
      "Epoch 13/50\n",
      "110/110 [==============================] - 62s 564ms/step - loss: 0.1874 - accuracy: 0.9493 - val_loss: 11.7002 - val_accuracy: 0.2095\n",
      "Epoch 14/50\n",
      "110/110 [==============================] - 62s 564ms/step - loss: 0.3005 - accuracy: 0.9429 - val_loss: 8.8278 - val_accuracy: 0.2049\n",
      "Epoch 15/50\n",
      "110/110 [==============================] - 62s 564ms/step - loss: 0.2236 - accuracy: 0.9463 - val_loss: 9.6721 - val_accuracy: 0.1952\n",
      "Epoch 16/50\n",
      "110/110 [==============================] - 62s 564ms/step - loss: 0.1636 - accuracy: 0.9578 - val_loss: 9.5695 - val_accuracy: 0.1975\n",
      "Epoch 17/50\n",
      "110/110 [==============================] - 62s 565ms/step - loss: 0.1357 - accuracy: 0.9665 - val_loss: 9.6789 - val_accuracy: 0.1969\n",
      "Epoch 18/50\n",
      "110/110 [==============================] - 62s 564ms/step - loss: 0.0956 - accuracy: 0.9772 - val_loss: 10.6585 - val_accuracy: 0.1992\n",
      "Epoch 19/50\n",
      "110/110 [==============================] - 62s 564ms/step - loss: 0.1119 - accuracy: 0.9747 - val_loss: 9.9256 - val_accuracy: 0.2061\n",
      "Epoch 20/50\n",
      "110/110 [==============================] - 62s 564ms/step - loss: 0.0746 - accuracy: 0.9820 - val_loss: 10.2386 - val_accuracy: 0.2089\n",
      "Epoch 21/50\n",
      "110/110 [==============================] - 62s 564ms/step - loss: 0.0623 - accuracy: 0.9838 - val_loss: 11.2374 - val_accuracy: 0.2061\n",
      "Epoch 22/50\n",
      "110/110 [==============================] - 62s 564ms/step - loss: 0.0448 - accuracy: 0.9870 - val_loss: 12.1620 - val_accuracy: 0.2095\n",
      "Epoch 23/50\n",
      "110/110 [==============================] - 62s 564ms/step - loss: 0.0602 - accuracy: 0.9858 - val_loss: 12.0294 - val_accuracy: 0.1958\n",
      "Epoch 24/50\n",
      "110/110 [==============================] - 62s 564ms/step - loss: 0.1048 - accuracy: 0.9748 - val_loss: 13.1703 - val_accuracy: 0.2112\n",
      "Epoch 25/50\n",
      "110/110 [==============================] - 62s 564ms/step - loss: 0.0909 - accuracy: 0.9831 - val_loss: 13.9148 - val_accuracy: 0.2072\n",
      "Epoch 26/50\n",
      "110/110 [==============================] - 62s 564ms/step - loss: 0.2461 - accuracy: 0.9545 - val_loss: 9.7742 - val_accuracy: 0.1952\n",
      "Epoch 27/50\n",
      "110/110 [==============================] - 62s 564ms/step - loss: 0.0397 - accuracy: 0.9893 - val_loss: 10.3139 - val_accuracy: 0.2112\n",
      "Epoch 28/50\n",
      "110/110 [==============================] - 62s 564ms/step - loss: 0.0433 - accuracy: 0.9898 - val_loss: 11.6463 - val_accuracy: 0.2169\n",
      "Epoch 29/50\n",
      "110/110 [==============================] - 62s 564ms/step - loss: 0.0260 - accuracy: 0.9921 - val_loss: 12.6523 - val_accuracy: 0.2015\n",
      "Epoch 30/50\n",
      "110/110 [==============================] - 62s 564ms/step - loss: 0.0186 - accuracy: 0.9953 - val_loss: 13.1499 - val_accuracy: 0.2152\n",
      "Epoch 31/50\n",
      "110/110 [==============================] - 62s 564ms/step - loss: 0.0177 - accuracy: 0.9956 - val_loss: 13.5809 - val_accuracy: 0.2101\n",
      "Epoch 32/50\n",
      "110/110 [==============================] - 62s 564ms/step - loss: 0.0205 - accuracy: 0.9948 - val_loss: 13.3533 - val_accuracy: 0.2227\n",
      "Epoch 33/50\n",
      "110/110 [==============================] - 62s 564ms/step - loss: 0.0148 - accuracy: 0.9953 - val_loss: 14.8855 - val_accuracy: 0.1969\n",
      "Epoch 34/50\n",
      "110/110 [==============================] - 62s 564ms/step - loss: 0.0232 - accuracy: 0.9943 - val_loss: 14.5780 - val_accuracy: 0.2032\n",
      "Epoch 35/50\n",
      "110/110 [==============================] - 62s 564ms/step - loss: 0.0201 - accuracy: 0.9953 - val_loss: 16.0073 - val_accuracy: 0.2061\n",
      "Epoch 36/50\n",
      "110/110 [==============================] - 62s 564ms/step - loss: 0.1223 - accuracy: 0.9734 - val_loss: 15.4738 - val_accuracy: 0.1820\n",
      "Epoch 37/50\n",
      "110/110 [==============================] - 62s 564ms/step - loss: 0.1142 - accuracy: 0.9747 - val_loss: 11.9868 - val_accuracy: 0.1940\n",
      "Epoch 38/50\n",
      "110/110 [==============================] - 62s 564ms/step - loss: 0.1692 - accuracy: 0.9742 - val_loss: 10.4871 - val_accuracy: 0.2295\n",
      "Epoch 39/50\n",
      "110/110 [==============================] - 62s 564ms/step - loss: 0.0509 - accuracy: 0.9881 - val_loss: 11.5875 - val_accuracy: 0.2129\n",
      "Epoch 40/50\n",
      "110/110 [==============================] - 62s 564ms/step - loss: 0.0499 - accuracy: 0.9887 - val_loss: 12.5012 - val_accuracy: 0.2112\n",
      "Epoch 41/50\n",
      "110/110 [==============================] - 62s 564ms/step - loss: 0.0266 - accuracy: 0.9924 - val_loss: 14.0754 - val_accuracy: 0.2169\n",
      "Epoch 42/50\n",
      "110/110 [==============================] - 62s 564ms/step - loss: 0.0323 - accuracy: 0.9911 - val_loss: 14.1105 - val_accuracy: 0.2084\n",
      "Epoch 43/50\n",
      "110/110 [==============================] - 62s 563ms/step - loss: 0.0304 - accuracy: 0.9917 - val_loss: 16.0542 - val_accuracy: 0.1992\n",
      "Epoch 44/50\n",
      "110/110 [==============================] - 62s 564ms/step - loss: 0.0140 - accuracy: 0.9967 - val_loss: 16.1376 - val_accuracy: 0.2192\n",
      "Epoch 45/50\n",
      "110/110 [==============================] - 62s 564ms/step - loss: 0.0201 - accuracy: 0.9947 - val_loss: 15.6572 - val_accuracy: 0.2135\n",
      "Epoch 46/50\n",
      "110/110 [==============================] - 62s 563ms/step - loss: 0.0339 - accuracy: 0.9917 - val_loss: 16.8527 - val_accuracy: 0.2112\n",
      "Epoch 47/50\n",
      "110/110 [==============================] - 62s 564ms/step - loss: 0.0385 - accuracy: 0.9904 - val_loss: 17.4370 - val_accuracy: 0.1918\n",
      "Epoch 48/50\n",
      "110/110 [==============================] - 62s 564ms/step - loss: 0.0393 - accuracy: 0.9908 - val_loss: 17.6891 - val_accuracy: 0.2009\n",
      "Epoch 49/50\n",
      "110/110 [==============================] - 62s 564ms/step - loss: 0.1265 - accuracy: 0.9777 - val_loss: 13.1962 - val_accuracy: 0.2026\n",
      "Epoch 50/50\n",
      "110/110 [==============================] - 62s 564ms/step - loss: 0.0744 - accuracy: 0.9863 - val_loss: 13.4463 - val_accuracy: 0.2021\n"
     ]
    },
    {
     "ename": "NameError",
     "evalue": "name 'model' is not defined",
     "output_type": "error",
     "traceback": [
      "\u001b[0;31m---------------------------------------------------------------------------\u001b[0m",
      "\u001b[0;31mNameError\u001b[0m                                 Traceback (most recent call last)",
      "\u001b[0;32m/tmp/ipykernel_652521/626135282.py\u001b[0m in \u001b[0;36m<module>\u001b[0;34m\u001b[0m\n\u001b[1;32m      1\u001b[0m \u001b[0mmodel2\u001b[0m\u001b[0;34m.\u001b[0m\u001b[0mfit\u001b[0m\u001b[0;34m(\u001b[0m\u001b[0mX_train\u001b[0m\u001b[0;34m,\u001b[0m \u001b[0my_train\u001b[0m\u001b[0;34m,\u001b[0m \u001b[0mepochs\u001b[0m \u001b[0;34m=\u001b[0m \u001b[0;36m50\u001b[0m\u001b[0;34m,\u001b[0m \u001b[0mbatch_size\u001b[0m \u001b[0;34m=\u001b[0m \u001b[0;36m64\u001b[0m\u001b[0;34m,\u001b[0m \u001b[0mvalidation_data\u001b[0m \u001b[0;34m=\u001b[0m \u001b[0;34m(\u001b[0m\u001b[0mX_test\u001b[0m\u001b[0;34m,\u001b[0m \u001b[0my_test\u001b[0m\u001b[0;34m)\u001b[0m\u001b[0;34m)\u001b[0m\u001b[0;34m\u001b[0m\u001b[0;34m\u001b[0m\u001b[0m\n\u001b[0;32m----> 2\u001b[0;31m \u001b[0mpredictions\u001b[0m \u001b[0;34m=\u001b[0m \u001b[0mmodel\u001b[0m\u001b[0;34m.\u001b[0m\u001b[0mpredict\u001b[0m\u001b[0;34m(\u001b[0m\u001b[0mX_test\u001b[0m\u001b[0;34m)\u001b[0m\u001b[0;34m\u001b[0m\u001b[0;34m\u001b[0m\u001b[0m\n\u001b[0m",
      "\u001b[0;31mNameError\u001b[0m: name 'model' is not defined"
     ]
    }
   ],
   "source": [
    "model2.fit(X_train, y_train, epochs = 50, batch_size = 64, validation_data = (X_test, y_test))"
   ]
  },
  {
   "attachments": {
    "image.png": {
     "image/png": "[encoded data removed]"
    }
   },
   "cell_type": "markdown",
   "id": "b0c61966",
   "metadata": {},
   "source": [
    "https://prnt.sc/4W2hJo-cK6tm\n",
    "![image.png](attachment:image.png)"
   ]
  },
  {
   "cell_type": "code",
   "execution_count": 13,
   "id": "90c086d5",
   "metadata": {},
   "outputs": [],
   "source": [
    "predictions = model2.predict(X_test)"
   ]
  },
  {
   "cell_type": "code",
   "execution_count": 23,
   "id": "5515eb69",
   "metadata": {},
   "outputs": [
    {
     "name": "stdout",
     "output_type": "stream",
     "text": [
      "[[0.10327783]\n",
      " [0.12884857]\n",
      " [0.04755935]\n",
      " ...\n",
      " [0.19942844]\n",
      " [0.22710066]\n",
      " [0.19504483]]\n"
     ]
    }
   ],
   "source": [
    "print(X_train[0])"
   ]
  },
  {
   "cell_type": "code",
   "execution_count": 24,
   "id": "1391c970",
   "metadata": {},
   "outputs": [
    {
     "name": "stdout",
     "output_type": "stream",
     "text": [
      "[0. 0. 0. 0. 0. 0. 0. 0. 1. 0.]\n"
     ]
    }
   ],
   "source": [
    "print(y_train[0])"
   ]
  },
  {
   "cell_type": "code",
   "execution_count": 25,
   "id": "7123d454",
   "metadata": {},
   "outputs": [
    {
     "name": "stdout",
     "output_type": "stream",
     "text": [
      "[[-0.01251079]\n",
      " [-0.02669682]\n",
      " [-0.02674609]\n",
      " ...\n",
      " [-0.34053823]\n",
      " [-0.29521257]\n",
      " [-0.2206356 ]]\n"
     ]
    }
   ],
   "source": [
    "print(X_test[0])"
   ]
  },
  {
   "cell_type": "code",
   "execution_count": 48,
   "id": "987d8f53",
   "metadata": {},
   "outputs": [
    {
     "name": "stdout",
     "output_type": "stream",
     "text": [
      "[0. 0. 0. 0. 0. 0. 0. 0. 1. 0.]\n"
     ]
    }
   ],
   "source": [
    "print(y_test[0])"
   ]
  },
  {
   "cell_type": "code",
   "execution_count": 52,
   "id": "c66a2629",
   "metadata": {},
   "outputs": [],
   "source": [
    "X = []\n",
    "labels = []\n",
    "\n",
    "for i in range(8732):\n",
    "    file_name = './fold' + str(df[\"fold\"][i]) + '/' + df[\"slice_file_name\"][i]\n",
    "    y, sr = librosa.load(file_name, res_type='kaiser_fast')\n",
    "    feature = np.mean(librosa.feature.melspectrogram(y=y, sr=sr).T,axis=0)        \n",
    "    X.append(feature)\n",
    "    labels.append(df[\"classID\"][i])"
   ]
  },
  {
   "cell_type": "code",
   "execution_count": 53,
   "id": "d1075d7b",
   "metadata": {},
   "outputs": [],
   "source": [
    "X_array = np.array(X)\n",
    "y_array = np.array(labels)"
   ]
  },
  {
   "cell_type": "code",
   "execution_count": 54,
   "id": "9c8f90d0",
   "metadata": {},
   "outputs": [],
   "source": [
    "X_array = X_array.reshape(8732, 128)"
   ]
  },
  {
   "cell_type": "code",
   "execution_count": null,
   "id": "49c282d6",
   "metadata": {},
   "outputs": [],
   "source": [
    "X_array.shape"
   ]
  },
  {
   "cell_type": "code",
   "execution_count": 55,
   "id": "35c59697",
   "metadata": {},
   "outputs": [
    {
     "name": "stdout",
     "output_type": "stream",
     "text": [
      "[3 2 2 ... 1 1 1]\n",
      "[[0. 0. 0. ... 0. 0. 0.]\n",
      " [0. 0. 1. ... 0. 0. 0.]\n",
      " [0. 0. 1. ... 0. 0. 0.]\n",
      " ...\n",
      " [0. 1. 0. ... 0. 0. 0.]\n",
      " [0. 1. 0. ... 0. 0. 0.]\n",
      " [0. 1. 0. ... 0. 0. 0.]]\n"
     ]
    }
   ],
   "source": [
    "from tensorflow.keras.utils import to_categorical \n",
    "from sklearn.preprocessing import LabelEncoder\n",
    "\n",
    "labelencoder = LabelEncoder()\n",
    "y_encoded = to_categorical(labelencoder.fit_transform(y_array))\n",
    "print(y_array)\n",
    "print(y_encoded)"
   ]
  },
  {
   "cell_type": "code",
   "execution_count": 57,
   "id": "2084c156",
   "metadata": {},
   "outputs": [],
   "source": [
    "from sklearn.model_selection import train_test_split\n",
    "\n",
    "X_train, X_test, y_train, y_test = train_test_split(X_array, y_encoded, test_size=0.2, random_state=42)"
   ]
  },
  {
   "cell_type": "code",
   "execution_count": 59,
   "id": "41942dd4",
   "metadata": {},
   "outputs": [
    {
     "data": {
      "text/plain": [
       "(6985, 128)"
      ]
     },
     "execution_count": 59,
     "metadata": {},
     "output_type": "execute_result"
    }
   ],
   "source": [
    "X_train.shape"
   ]
  },
  {
   "cell_type": "code",
   "execution_count": 60,
   "id": "f58b1b13",
   "metadata": {},
   "outputs": [
    {
     "data": {
      "text/plain": [
       "(1747, 128)"
      ]
     },
     "execution_count": 60,
     "metadata": {},
     "output_type": "execute_result"
    }
   ],
   "source": [
    "X_test.shape"
   ]
  },
  {
   "cell_type": "code",
   "execution_count": 61,
   "id": "b9742cbd",
   "metadata": {},
   "outputs": [],
   "source": [
    "X_train = X_train.reshape(6985, 16, 8, 1)\n",
    "X_test = X_test.reshape(1747, 16, 8, 1)"
   ]
  },
  {
   "cell_type": "code",
   "execution_count": null,
   "id": "fc16e35b",
   "metadata": {},
   "outputs": [],
   "source": [
    "X_train.shape"
   ]
  },
  {
   "cell_type": "code",
   "execution_count": 62,
   "id": "fb34935e",
   "metadata": {},
   "outputs": [],
   "source": [
    "model_input=(16, 8, 1)"
   ]
  },
  {
   "cell_type": "markdown",
   "id": "b3595009",
   "metadata": {},
   "source": [
    "# Model on Melspectogram Data"
   ]
  },
  {
   "cell_type": "code",
   "execution_count": 63,
   "id": "418c47ae",
   "metadata": {},
   "outputs": [],
   "source": [
    "model3 = Sequential()\n",
    "\n",
    "model3.add(Dense(1024, input_shape=(model_input), activation='relu'))\n",
    "model3.add(Dropout(0.2))\n",
    "\n",
    "model3.add(Dense(512, activation='relu'))\n",
    "model3.add(Dropout(0.2))\n",
    "\n",
    "model3.add(Dense(256, activation='relu'))\n",
    "model3.add(Dropout(0.2))\n",
    "\n",
    "model3.add(Flatten()) \n",
    "model3.add(Dense(10, activation=\"softmax\"))\n",
    "model3.compile(loss='categorical_crossentropy', optimizer='adam', metrics=['accuracy'])"
   ]
  },
  {
   "cell_type": "markdown",
   "id": "9c481972",
   "metadata": {},
   "source": [
    "# RandomForest Classifier"
   ]
  },
  {
   "cell_type": "code",
   "execution_count": 72,
   "id": "62299ed9",
   "metadata": {},
   "outputs": [],
   "source": [
    "X_train_rf, X_test_rf, y_train_rf, y_test_rf = train_test_split(X_array, y_encoded, test_size=0.2, random_state=42)"
   ]
  },
  {
   "cell_type": "code",
   "execution_count": 73,
   "id": "51936a65",
   "metadata": {},
   "outputs": [],
   "source": [
    "from sklearn.ensemble import RandomForestClassifier\n",
    "\n",
    "rf_model = RandomForestClassifier()\n",
    "rf_model.fit(X_train_rf, y_train_rf)\n",
    "predictions = rf_model.predict(X_test_rf)"
   ]
  },
  {
   "cell_type": "code",
   "execution_count": 81,
   "id": "adf2a38a",
   "metadata": {},
   "outputs": [],
   "source": [
    "from sklearn.metrics import classification_report, confusion_matrix, multilabel_confusion_matrix"
   ]
  },
  {
   "cell_type": "code",
   "execution_count": 96,
   "id": "babd9178",
   "metadata": {},
   "outputs": [],
   "source": [
    "def matrix_score(y_test, predictions):\n",
    "    my_matrix = multilabel_confusion_matrix(y_test, predictions)\n",
    "    TP = my_matrix[1][1]\n",
    "    TN = my_matrix[0][0]\n",
    "    FP = my_matrix[0][1]\n",
    "    FN = my_matrix[1][0]\n",
    "    \n",
    "    conf_accuracy = (float (TP+TN) / float(TP + TN + FP + FN))\n",
    "    conf_missclassification = 1- conf_accuracy\n",
    "    conf_sensitivity = (TP / float(TP + FN))\n",
    "    conf_specificity = (TN / float(TN + FP))\n",
    "    \n",
    "    print()\n",
    "    print('Accuracy:', '%.3f' % conf_accuracy)\n",
    "    print('Missclassifcation:', '%.3f' % conf_missclassification)\n",
    "    print('Sensitivity:', '%.3f' % conf_sensitivity)\n",
    "    print('Specificity:', '%.3f' % conf_specificity)"
   ]
  },
  {
   "cell_type": "code",
   "execution_count": 100,
   "id": "25154964",
   "metadata": {},
   "outputs": [
    {
     "name": "stdout",
     "output_type": "stream",
     "text": [
      "Classification Report: \n",
      "              precision    recall  f1-score   support\n",
      "\n",
      "           0       0.99      0.83      0.91       203\n",
      "           1       1.00      0.31      0.48        86\n",
      "           2       0.89      0.43      0.58       183\n",
      "           3       1.00      0.59      0.74       201\n",
      "           4       0.99      0.66      0.79       206\n",
      "           5       0.99      0.91      0.95       193\n",
      "           6       1.00      0.51      0.68        72\n",
      "           7       0.98      0.81      0.89       208\n",
      "           8       0.99      0.81      0.89       165\n",
      "           9       0.97      0.29      0.45       230\n",
      "\n",
      "   micro avg       0.98      0.64      0.77      1747\n",
      "   macro avg       0.98      0.62      0.73      1747\n",
      "weighted avg       0.98      0.64      0.75      1747\n",
      " samples avg       0.64      0.64      0.64      1747\n",
      "\n",
      "\n",
      "Confusion Matrix: \n",
      "[[[1543    1]\n",
      "  [  34  169]]\n",
      "\n",
      " [[1661    0]\n",
      "  [  59   27]]\n",
      "\n",
      " [[1554   10]\n",
      "  [ 104   79]]\n",
      "\n",
      " [[1546    0]\n",
      "  [  83  118]]\n",
      "\n",
      " [[1539    2]\n",
      "  [  71  135]]\n",
      "\n",
      " [[1553    1]\n",
      "  [  17  176]]\n",
      "\n",
      " [[1675    0]\n",
      "  [  35   37]]\n",
      "\n",
      " [[1536    3]\n",
      "  [  39  169]]\n",
      "\n",
      " [[1580    2]\n",
      "  [  32  133]]\n",
      "\n",
      " [[1515    2]\n",
      "  [ 163   67]]]\n"
     ]
    }
   ],
   "source": [
    "print(\"Classification Report: \")\n",
    "print(classification_report(y_test_rf, predictions))\n",
    "print()\n",
    "print(\"Confusion Matrix: \")\n",
    "print(multilabel_confusion_matrix(y_test_rf, predictions))\n",
    "# matrix_score(y_test_rf, predictions)"
   ]
  },
  {
   "cell_type": "code",
   "execution_count": 103,
   "id": "71b864ee",
   "metadata": {},
   "outputs": [
    {
     "data": {
      "text/plain": [
       "0.9814323607427056"
      ]
     },
     "execution_count": 103,
     "metadata": {},
     "output_type": "execute_result"
    }
   ],
   "source": [
    "from sklearn.metrics import precision_score\n",
    "\n",
    "precision_score(y_test_rf, predictions, average='micro')"
   ]
  },
  {
   "cell_type": "code",
   "execution_count": 104,
   "id": "46d7c463",
   "metadata": {},
   "outputs": [],
   "source": [
    "from sklearn.metrics import log_loss\n",
    "\n",
    "loss = log_loss(y_test_rf, predictions, eps=1e-15)"
   ]
  },
  {
   "cell_type": "code",
   "execution_count": 105,
   "id": "1db0f529",
   "metadata": {},
   "outputs": [
    {
     "name": "stdout",
     "output_type": "stream",
     "text": [
      "1.227078844495139\n"
     ]
    }
   ],
   "source": [
    "print(loss)"
   ]
  },
  {
   "cell_type": "code",
   "execution_count": 108,
   "id": "3c0a5cbb",
   "metadata": {},
   "outputs": [
    {
     "data": {
      "text/plain": [
       "0.8071360197554934"
      ]
     },
     "execution_count": 108,
     "metadata": {},
     "output_type": "execute_result"
    }
   ],
   "source": [
    "from sklearn.metrics import roc_auc_score\n",
    "\n",
    "roc_auc_score(y_test_rf, predictions, multi_class='ovr')"
   ]
  },
  {
   "cell_type": "code",
   "execution_count": null,
   "id": "8f097b40",
   "metadata": {},
   "outputs": [],
   "source": []
  }
 ],
 "metadata": {
  "kernelspec": {
   "display_name": "Python 3 (ipykernel)",
   "language": "python",
   "name": "python3"
  },
  "language_info": {
   "codemirror_mode": {
    "name": "ipython",
    "version": 3
   },
   "file_extension": ".py",
   "mimetype": "text/x-python",
   "name": "python",
   "nbconvert_exporter": "python",
   "pygments_lexer": "ipython3",
   "version": "3.7.11"
  }
 },
 "nbformat": 4,
 "nbformat_minor": 5
}
